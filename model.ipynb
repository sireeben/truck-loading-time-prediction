{
 "cells": [
  {
   "cell_type": "markdown",
   "metadata": {},
   "source": [
    "# Model Training"
   ]
  },
  {
   "cell_type": "code",
   "execution_count": 2,
   "metadata": {},
   "outputs": [
    {
     "name": "stderr",
     "output_type": "stream",
     "text": [
      "/opt/anaconda3/lib/python3.7/site-packages/statsmodels/tools/_testing.py:19: FutureWarning: pandas.util.testing is deprecated. Use the functions in the public API at pandas.testing instead.\n",
      "  import pandas.util.testing as tm\n"
     ]
    }
   ],
   "source": [
    "import numpy as np\n",
    "import pandas as pd\n",
    "import matplotlib.pyplot as plt\n",
    "import seaborn as sns"
   ]
  },
  {
   "cell_type": "code",
   "execution_count": 3,
   "metadata": {},
   "outputs": [],
   "source": [
    "# Set display\n",
    "pd.set_option('display.max_columns', 100)\n",
    "pd.set_option(\"display.max_rows\", 500)"
   ]
  },
  {
   "cell_type": "markdown",
   "metadata": {},
   "source": [
    "### Evaluation Metrics"
   ]
  },
  {
   "cell_type": "code",
   "execution_count": 3,
   "metadata": {},
   "outputs": [],
   "source": [
    "from sklearn.metrics import mean_squared_error, mean_absolute_error, accuracy_score, f1_score, log_loss\n",
    "\n",
    "def mean_absolute_percentage_error(y_true, y_pred): \n",
    "    total = 0\n",
    "    for i in range(y_test.size):\n",
    "        total += np.abs((y_true[i] - y_pred[i]) / y_true[i]) * 100\n",
    "    return total / y_test.size\n",
    "\n",
    "def mean_error(y_true, y_pred): \n",
    "    total = 0\n",
    "    for i in range(y_test.size):\n",
    "        total += y_true[i] - y_pred[i]\n",
    "    return total / y_test.size"
   ]
  },
  {
   "cell_type": "markdown",
   "metadata": {},
   "source": [
    "### Read Data"
   ]
  },
  {
   "cell_type": "code",
   "execution_count": 3,
   "metadata": {},
   "outputs": [
    {
     "data": {
      "text/html": [
       "<div>\n",
       "<style scoped>\n",
       "    .dataframe tbody tr th:only-of-type {\n",
       "        vertical-align: middle;\n",
       "    }\n",
       "\n",
       "    .dataframe tbody tr th {\n",
       "        vertical-align: top;\n",
       "    }\n",
       "\n",
       "    .dataframe thead th {\n",
       "        text-align: right;\n",
       "    }\n",
       "</style>\n",
       "<table border=\"1\" class=\"dataframe\">\n",
       "  <thead>\n",
       "    <tr style=\"text-align: right;\">\n",
       "      <th></th>\n",
       "      <th>DwellTime</th>\n",
       "    </tr>\n",
       "  </thead>\n",
       "  <tbody>\n",
       "    <tr>\n",
       "      <th>0</th>\n",
       "      <td>0.083333</td>\n",
       "    </tr>\n",
       "    <tr>\n",
       "      <th>1</th>\n",
       "      <td>0.083333</td>\n",
       "    </tr>\n",
       "    <tr>\n",
       "      <th>2</th>\n",
       "      <td>0.800000</td>\n",
       "    </tr>\n",
       "    <tr>\n",
       "      <th>3</th>\n",
       "      <td>0.083333</td>\n",
       "    </tr>\n",
       "    <tr>\n",
       "      <th>4</th>\n",
       "      <td>0.083333</td>\n",
       "    </tr>\n",
       "  </tbody>\n",
       "</table>\n",
       "</div>"
      ],
      "text/plain": [
       "   DwellTime\n",
       "0   0.083333\n",
       "1   0.083333\n",
       "2   0.800000\n",
       "3   0.083333\n",
       "4   0.083333"
      ]
     },
     "metadata": {},
     "output_type": "display_data"
    }
   ],
   "source": [
    "y = pd.read_csv(\"./dwelltime.csv\")\n",
    "display(y.head())"
   ]
  },
  {
   "cell_type": "markdown",
   "metadata": {},
   "source": [
    "### One-Hot Encoder\n",
    "### ****Note: Run this line when training Ridge Regression and Logistic Regression"
   ]
  },
  {
   "cell_type": "code",
   "execution_count": null,
   "metadata": {},
   "outputs": [],
   "source": [
    "x = pd.read_csv(\"./indpt_vars.csv\",index_col = None)"
   ]
  },
  {
   "cell_type": "markdown",
   "metadata": {},
   "source": [
    "### Numerical Encoder\n",
    "### ****Note: Run this line when training Random Forest and Gradient Boosting"
   ]
  },
  {
   "cell_type": "code",
   "execution_count": null,
   "metadata": {},
   "outputs": [],
   "source": [
    "x = pd.read_csv(\"./indpt_vars_num.csv\",index_col = None)"
   ]
  },
  {
   "cell_type": "code",
   "execution_count": 13,
   "metadata": {},
   "outputs": [
    {
     "data": {
      "text/plain": [
       "(1758839, 1)"
      ]
     },
     "execution_count": 13,
     "metadata": {},
     "output_type": "execute_result"
    }
   ],
   "source": [
    "y.shape"
   ]
  },
  {
   "cell_type": "code",
   "execution_count": 396,
   "metadata": {},
   "outputs": [
    {
     "data": {
      "text/plain": [
       "(1758839, 201)"
      ]
     },
     "execution_count": 396,
     "metadata": {},
     "output_type": "execute_result"
    }
   ],
   "source": [
    "x.shape"
   ]
  },
  {
   "cell_type": "markdown",
   "metadata": {},
   "source": [
    "# Part A - Regression Approach"
   ]
  },
  {
   "cell_type": "markdown",
   "metadata": {},
   "source": [
    "### Split Train/Test Data"
   ]
  },
  {
   "cell_type": "code",
   "execution_count": 10,
   "metadata": {},
   "outputs": [
    {
     "data": {
      "text/html": [
       "<div>\n",
       "<style scoped>\n",
       "    .dataframe tbody tr th:only-of-type {\n",
       "        vertical-align: middle;\n",
       "    }\n",
       "\n",
       "    .dataframe tbody tr th {\n",
       "        vertical-align: top;\n",
       "    }\n",
       "\n",
       "    .dataframe thead th {\n",
       "        text-align: right;\n",
       "    }\n",
       "</style>\n",
       "<table border=\"1\" class=\"dataframe\">\n",
       "  <thead>\n",
       "    <tr style=\"text-align: right;\">\n",
       "      <th></th>\n",
       "      <th>Miles</th>\n",
       "      <th>MilesToNextStop</th>\n",
       "      <th>ClusterId</th>\n",
       "      <th>ArriveTimeUpdateType</th>\n",
       "      <th>BounceCount</th>\n",
       "      <th>TotalPallets</th>\n",
       "      <th>TotalWeight</th>\n",
       "      <th>Hot</th>\n",
       "      <th>DnBIndustry</th>\n",
       "      <th>ScheduleType</th>\n",
       "      <th>EquipmentType</th>\n",
       "      <th>EquipmentLength</th>\n",
       "      <th>LoadStopType</th>\n",
       "      <th>LoadStopSequence</th>\n",
       "      <th>WorkType</th>\n",
       "      <th>OnTime</th>\n",
       "      <th>DayOfWeek</th>\n",
       "      <th>HourOfDay</th>\n",
       "      <th>PeakHour</th>\n",
       "      <th>facility_traffic</th>\n",
       "      <th>driver_exp</th>\n",
       "      <th>driver_complexity</th>\n",
       "      <th>facility_complexity</th>\n",
       "      <th>avg_dt</th>\n",
       "      <th>median_dt</th>\n",
       "      <th>min_dt</th>\n",
       "      <th>max_dt</th>\n",
       "      <th>std_dt</th>\n",
       "    </tr>\n",
       "  </thead>\n",
       "  <tbody>\n",
       "    <tr>\n",
       "      <th>1748899</th>\n",
       "      <td>23.0</td>\n",
       "      <td>0.0</td>\n",
       "      <td>19</td>\n",
       "      <td>0</td>\n",
       "      <td>0.0</td>\n",
       "      <td>4</td>\n",
       "      <td>1525.000</td>\n",
       "      <td>0</td>\n",
       "      <td>2</td>\n",
       "      <td>0</td>\n",
       "      <td>0</td>\n",
       "      <td>53.0</td>\n",
       "      <td>0</td>\n",
       "      <td>2</td>\n",
       "      <td>1</td>\n",
       "      <td>1</td>\n",
       "      <td>3</td>\n",
       "      <td>9</td>\n",
       "      <td>1</td>\n",
       "      <td>1</td>\n",
       "      <td>342</td>\n",
       "      <td>2</td>\n",
       "      <td>2</td>\n",
       "      <td>1.360000</td>\n",
       "      <td>1.15</td>\n",
       "      <td>0.500000</td>\n",
       "      <td>2.05</td>\n",
       "      <td>0.664747</td>\n",
       "    </tr>\n",
       "    <tr>\n",
       "      <th>280247</th>\n",
       "      <td>378.0</td>\n",
       "      <td>378.0</td>\n",
       "      <td>106</td>\n",
       "      <td>1</td>\n",
       "      <td>0.0</td>\n",
       "      <td>31</td>\n",
       "      <td>45408.352</td>\n",
       "      <td>0</td>\n",
       "      <td>0</td>\n",
       "      <td>0</td>\n",
       "      <td>0</td>\n",
       "      <td>53.0</td>\n",
       "      <td>1</td>\n",
       "      <td>1</td>\n",
       "      <td>0</td>\n",
       "      <td>0</td>\n",
       "      <td>3</td>\n",
       "      <td>14</td>\n",
       "      <td>1</td>\n",
       "      <td>64</td>\n",
       "      <td>583</td>\n",
       "      <td>62</td>\n",
       "      <td>1433</td>\n",
       "      <td>2.274595</td>\n",
       "      <td>2.00</td>\n",
       "      <td>0.016667</td>\n",
       "      <td>6.00</td>\n",
       "      <td>1.287106</td>\n",
       "    </tr>\n",
       "    <tr>\n",
       "      <th>1686029</th>\n",
       "      <td>2972.0</td>\n",
       "      <td>2972.0</td>\n",
       "      <td>49</td>\n",
       "      <td>0</td>\n",
       "      <td>0.0</td>\n",
       "      <td>32</td>\n",
       "      <td>25000.000</td>\n",
       "      <td>0</td>\n",
       "      <td>0</td>\n",
       "      <td>2</td>\n",
       "      <td>0</td>\n",
       "      <td>53.0</td>\n",
       "      <td>1</td>\n",
       "      <td>1</td>\n",
       "      <td>0</td>\n",
       "      <td>1</td>\n",
       "      <td>3</td>\n",
       "      <td>12</td>\n",
       "      <td>1</td>\n",
       "      <td>1</td>\n",
       "      <td>229</td>\n",
       "      <td>49</td>\n",
       "      <td>5</td>\n",
       "      <td>1.601852</td>\n",
       "      <td>1.50</td>\n",
       "      <td>0.500000</td>\n",
       "      <td>3.00</td>\n",
       "      <td>0.828924</td>\n",
       "    </tr>\n",
       "    <tr>\n",
       "      <th>471518</th>\n",
       "      <td>302.0</td>\n",
       "      <td>0.0</td>\n",
       "      <td>78</td>\n",
       "      <td>0</td>\n",
       "      <td>0.0</td>\n",
       "      <td>52</td>\n",
       "      <td>25899.000</td>\n",
       "      <td>0</td>\n",
       "      <td>9</td>\n",
       "      <td>0</td>\n",
       "      <td>0</td>\n",
       "      <td>53.0</td>\n",
       "      <td>0</td>\n",
       "      <td>2</td>\n",
       "      <td>0</td>\n",
       "      <td>1</td>\n",
       "      <td>1</td>\n",
       "      <td>8</td>\n",
       "      <td>1</td>\n",
       "      <td>64</td>\n",
       "      <td>2118</td>\n",
       "      <td>1</td>\n",
       "      <td>286</td>\n",
       "      <td>1.693054</td>\n",
       "      <td>2.00</td>\n",
       "      <td>0.016667</td>\n",
       "      <td>6.00</td>\n",
       "      <td>0.839518</td>\n",
       "    </tr>\n",
       "    <tr>\n",
       "      <th>103745</th>\n",
       "      <td>72.0</td>\n",
       "      <td>0.0</td>\n",
       "      <td>28</td>\n",
       "      <td>0</td>\n",
       "      <td>0.0</td>\n",
       "      <td>48</td>\n",
       "      <td>42768.000</td>\n",
       "      <td>0</td>\n",
       "      <td>2</td>\n",
       "      <td>0</td>\n",
       "      <td>1</td>\n",
       "      <td>53.0</td>\n",
       "      <td>0</td>\n",
       "      <td>2</td>\n",
       "      <td>0</td>\n",
       "      <td>1</td>\n",
       "      <td>1</td>\n",
       "      <td>5</td>\n",
       "      <td>0</td>\n",
       "      <td>14</td>\n",
       "      <td>22</td>\n",
       "      <td>5</td>\n",
       "      <td>1072</td>\n",
       "      <td>1.653821</td>\n",
       "      <td>1.50</td>\n",
       "      <td>0.016667</td>\n",
       "      <td>6.00</td>\n",
       "      <td>0.902175</td>\n",
       "    </tr>\n",
       "  </tbody>\n",
       "</table>\n",
       "</div>"
      ],
      "text/plain": [
       "          Miles  MilesToNextStop  ClusterId  ArriveTimeUpdateType  \\\n",
       "1748899    23.0              0.0         19                     0   \n",
       "280247    378.0            378.0        106                     1   \n",
       "1686029  2972.0           2972.0         49                     0   \n",
       "471518    302.0              0.0         78                     0   \n",
       "103745     72.0              0.0         28                     0   \n",
       "\n",
       "         BounceCount  TotalPallets  TotalWeight  Hot  DnBIndustry  \\\n",
       "1748899          0.0             4     1525.000    0            2   \n",
       "280247           0.0            31    45408.352    0            0   \n",
       "1686029          0.0            32    25000.000    0            0   \n",
       "471518           0.0            52    25899.000    0            9   \n",
       "103745           0.0            48    42768.000    0            2   \n",
       "\n",
       "         ScheduleType  EquipmentType  EquipmentLength  LoadStopType  \\\n",
       "1748899             0              0             53.0             0   \n",
       "280247              0              0             53.0             1   \n",
       "1686029             2              0             53.0             1   \n",
       "471518              0              0             53.0             0   \n",
       "103745              0              1             53.0             0   \n",
       "\n",
       "         LoadStopSequence  WorkType  OnTime  DayOfWeek  HourOfDay  PeakHour  \\\n",
       "1748899                 2         1       1          3          9         1   \n",
       "280247                  1         0       0          3         14         1   \n",
       "1686029                 1         0       1          3         12         1   \n",
       "471518                  2         0       1          1          8         1   \n",
       "103745                  2         0       1          1          5         0   \n",
       "\n",
       "         facility_traffic  driver_exp  driver_complexity  facility_complexity  \\\n",
       "1748899                 1         342                  2                    2   \n",
       "280247                 64         583                 62                 1433   \n",
       "1686029                 1         229                 49                    5   \n",
       "471518                 64        2118                  1                  286   \n",
       "103745                 14          22                  5                 1072   \n",
       "\n",
       "           avg_dt  median_dt    min_dt  max_dt    std_dt  \n",
       "1748899  1.360000       1.15  0.500000    2.05  0.664747  \n",
       "280247   2.274595       2.00  0.016667    6.00  1.287106  \n",
       "1686029  1.601852       1.50  0.500000    3.00  0.828924  \n",
       "471518   1.693054       2.00  0.016667    6.00  0.839518  \n",
       "103745   1.653821       1.50  0.016667    6.00  0.902175  "
      ]
     },
     "metadata": {},
     "output_type": "display_data"
    },
    {
     "data": {
      "text/html": [
       "<div>\n",
       "<style scoped>\n",
       "    .dataframe tbody tr th:only-of-type {\n",
       "        vertical-align: middle;\n",
       "    }\n",
       "\n",
       "    .dataframe tbody tr th {\n",
       "        vertical-align: top;\n",
       "    }\n",
       "\n",
       "    .dataframe thead th {\n",
       "        text-align: right;\n",
       "    }\n",
       "</style>\n",
       "<table border=\"1\" class=\"dataframe\">\n",
       "  <thead>\n",
       "    <tr style=\"text-align: right;\">\n",
       "      <th></th>\n",
       "      <th>DwellTime</th>\n",
       "    </tr>\n",
       "  </thead>\n",
       "  <tbody>\n",
       "    <tr>\n",
       "      <th>1748899</th>\n",
       "      <td>1.083333</td>\n",
       "    </tr>\n",
       "    <tr>\n",
       "      <th>280247</th>\n",
       "      <td>0.983333</td>\n",
       "    </tr>\n",
       "    <tr>\n",
       "      <th>1686029</th>\n",
       "      <td>1.500000</td>\n",
       "    </tr>\n",
       "    <tr>\n",
       "      <th>471518</th>\n",
       "      <td>1.000000</td>\n",
       "    </tr>\n",
       "    <tr>\n",
       "      <th>103745</th>\n",
       "      <td>2.250000</td>\n",
       "    </tr>\n",
       "  </tbody>\n",
       "</table>\n",
       "</div>"
      ],
      "text/plain": [
       "         DwellTime\n",
       "1748899   1.083333\n",
       "280247    0.983333\n",
       "1686029   1.500000\n",
       "471518    1.000000\n",
       "103745    2.250000"
      ]
     },
     "metadata": {},
     "output_type": "display_data"
    }
   ],
   "source": [
    "from sklearn.model_selection import train_test_split\n",
    "\n",
    "# Split dataset into training set and test set -- 70% training and 30% test\n",
    "x_train, x_test, y_train, y_test = train_test_split(x, y, test_size=0.3, stratify=y)\n",
    "display(x_train.head())\n",
    "display(y_train.head())"
   ]
  },
  {
   "cell_type": "markdown",
   "metadata": {},
   "source": [
    "## Model 1 – RidgeRegression"
   ]
  },
  {
   "cell_type": "code",
   "execution_count": 393,
   "metadata": {},
   "outputs": [],
   "source": [
    "from sklearn.linear_model import Ridge\n",
    "\n",
    "reg = Ridge(normalize=True, alpha=0.01)\n",
    "reg.fit(x_train, y_train) \n",
    "y_pred = reg.predict(x_test)"
   ]
  },
  {
   "cell_type": "code",
   "execution_count": 118,
   "metadata": {},
   "outputs": [
    {
     "name": "stdout",
     "output_type": "stream",
     "text": [
      "MAE: 0.7751842965206802\n",
      "RMSE: 1.0404202751615836\n",
      "MAPE: 121.09877100489096\n",
      "Mean Error: 0.0005378251687322052\n"
     ]
    }
   ],
   "source": [
    "print('MAE: ' + str(mean_absolute_error(y_test, y_pred)))\n",
    "print('RMSE: ' + str(np.sqrt(mean_squared_error(y_test, y_pred))))\n",
    "print('MAPE: ' + str(mean_absolute_percentage_error(y_test.values.ravel(), y_pred)[0]))\n",
    "print('Mean Error: ' + str(mean_error(y_test.values.ravel(), y_pred)[0]))"
   ]
  },
  {
   "cell_type": "code",
   "execution_count": 119,
   "metadata": {},
   "outputs": [
    {
     "name": "stdout",
     "output_type": "stream",
     "text": [
      "R2: 0.16705887349655776\n",
      "OSR2: 0.16535468676678566\n"
     ]
    }
   ],
   "source": [
    "print('R2: ' + str(reg.score(x_train, y_train)))\n",
    "print('OSR2: ' + str(reg.score(x_test, y_test)))"
   ]
  },
  {
   "cell_type": "markdown",
   "metadata": {},
   "source": [
    "### Label Encoder"
   ]
  },
  {
   "cell_type": "code",
   "execution_count": 397,
   "metadata": {},
   "outputs": [],
   "source": [
    "# set min/max\n",
    "y_pred[y_pred<0] = 0.1"
   ]
  },
  {
   "cell_type": "code",
   "execution_count": 398,
   "metadata": {},
   "outputs": [
    {
     "data": {
      "text/plain": [
       "5.550114640141779"
      ]
     },
     "execution_count": 398,
     "metadata": {},
     "output_type": "execute_result"
    }
   ],
   "source": [
    "y_pred.max()"
   ]
  },
  {
   "cell_type": "code",
   "execution_count": 399,
   "metadata": {},
   "outputs": [],
   "source": [
    "y_train_bin = np.ceil(y_train) #le.transform()\n",
    "y_test_bin = np.ceil(y_test)\n",
    "y_pred_bin = np.ceil(y_pred)"
   ]
  },
  {
   "cell_type": "code",
   "execution_count": 400,
   "metadata": {},
   "outputs": [
    {
     "name": "stdout",
     "output_type": "stream",
     "text": [
      "Accuracy: 0.37017958806182866\n",
      "F1 score: 0.30873261701783994\n"
     ]
    }
   ],
   "source": [
    "print('Accuracy: ' + str(accuracy_score(y_test_bin, y_pred_bin)))\n",
    "print('F1 score: ' + str(f1_score(y_test_bin, y_pred_bin, average='weighted')))"
   ]
  },
  {
   "cell_type": "code",
   "execution_count": 401,
   "metadata": {},
   "outputs": [
    {
     "data": {
      "text/plain": [
       "array([[ 21274, 141161,  29648,    337,      4,      0],\n",
       "       [  2902, 144632,  52208,    907,     11,      0],\n",
       "       [   350,  43428,  28632,    731,     28,      0],\n",
       "       [    92,  15995,  17216,    741,     33,      0],\n",
       "       [    33,   6613,  10093,    738,     43,      2],\n",
       "       [    16,   3161,   6031,    524,     64,      4]])"
      ]
     },
     "execution_count": 401,
     "metadata": {},
     "output_type": "execute_result"
    }
   ],
   "source": [
    "from sklearn.metrics import confusion_matrix\n",
    "confusion_matrix(y_test_bin, y_pred_bin)"
   ]
  },
  {
   "cell_type": "markdown",
   "metadata": {},
   "source": [
    "### Variable Coefficients"
   ]
  },
  {
   "cell_type": "code",
   "execution_count": 122,
   "metadata": {},
   "outputs": [
    {
     "name": "stdout",
     "output_type": "stream",
     "text": [
      "Variable: avg_dt               Coefficient: 0.817\n",
      "Variable: C136                 Coefficient: 0.151\n",
      "Variable: Utilities            Coefficient: 0.139\n",
      "Variable: None                 Coefficient: 0.086\n",
      "Variable: C14                  Coefficient: 0.083\n",
      "Variable: median_dt            Coefficient: 0.081\n",
      "Variable: C128                 Coefficient: 0.073\n",
      "Variable: std_dt               Coefficient: 0.065\n",
      "Variable: Hot                  Coefficient: 0.061\n",
      "Variable: Arts, Entertainment, and Recreation Coefficient: 0.049\n",
      "Variable: C40                  Coefficient: 0.041\n",
      "Variable: Public Administration Coefficient: 0.04\n",
      "Variable: BounceCount          Coefficient: 0.038\n",
      "Variable: C97                  Coefficient: 0.034\n",
      "Variable: Real Estate and Rental and Leasing Coefficient: 0.033\n",
      "Variable: Mon                  Coefficient: 0.031\n",
      "Variable: C100                 Coefficient: 0.029\n",
      "Variable: Manual               Coefficient: 0.029\n",
      "Variable: R                    Coefficient: 0.028\n",
      "Variable: C121                 Coefficient: 0.026\n",
      "Variable: C56                  Coefficient: 0.026\n",
      "Variable: C57                  Coefficient: 0.026\n",
      "Variable: Lumper               Coefficient: 0.026\n",
      "Variable: min_dt               Coefficient: 0.025\n",
      "Variable: C41                  Coefficient: 0.025\n",
      "Variable: Open                 Coefficient: 0.025\n",
      "Variable: C35                  Coefficient: 0.024\n",
      "Variable: C95                  Coefficient: 0.022\n",
      "Variable: C116                 Coefficient: 0.021\n",
      "Variable: Professional, Scientific, and Technical Services Coefficient: 0.021\n",
      "Variable: C76                  Coefficient: 0.018\n",
      "Variable: C120                 Coefficient: 0.017\n",
      "Variable: Delivery             Coefficient: 0.017\n",
      "Variable: C34                  Coefficient: 0.016\n",
      "Variable: C30                  Coefficient: 0.015\n",
      "Variable: C107                 Coefficient: 0.014\n",
      "Variable: C119                 Coefficient: 0.014\n",
      "Variable: C79                  Coefficient: 0.014\n",
      "Variable: C23                  Coefficient: 0.013\n",
      "Variable: C19                  Coefficient: 0.012\n",
      "Variable: C32                  Coefficient: 0.012\n",
      "Variable: C4                   Coefficient: 0.01\n",
      "Variable: Educational Services Coefficient: 0.01\n",
      "Variable: Tue                  Coefficient: 0.01\n",
      "Variable: C1                   Coefficient: 0.009\n",
      "Variable: C123                 Coefficient: 0.009\n",
      "Variable: C135                 Coefficient: 0.009\n",
      "Variable: C17                  Coefficient: 0.009\n",
      "Variable: C65                  Coefficient: 0.009\n",
      "Variable: max_dt               Coefficient: 0.008\n",
      "Variable: C15                  Coefficient: 0.008\n",
      "Variable: C131                 Coefficient: 0.007\n",
      "Variable: C58                  Coefficient: 0.007\n",
      "Variable: C59                  Coefficient: 0.007\n",
      "Variable: C84                  Coefficient: 0.007\n",
      "Variable: Manufacturing        Coefficient: 0.007\n",
      "Variable: C77                  Coefficient: 0.006\n",
      "Variable: Information          Coefficient: 0.006\n",
      "Variable: C117                 Coefficient: 0.005\n",
      "Variable: C26                  Coefficient: 0.005\n",
      "Variable: C81                  Coefficient: 0.005\n",
      "Variable: Transportation and Warehousing Coefficient: 0.005\n",
      "Variable: C67                  Coefficient: 0.004\n",
      "Variable: C86                  Coefficient: 0.004\n",
      "Variable: C87                  Coefficient: 0.004\n",
      "Variable: C90                  Coefficient: 0.004\n",
      "Variable: C112                 Coefficient: 0.003\n",
      "Variable: Wed                  Coefficient: 0.003\n",
      "Variable: TotalPallets         Coefficient: 0.002\n",
      "Variable: C22                  Coefficient: 0.002\n",
      "Variable: C33                  Coefficient: 0.002\n",
      "Variable: C68                  Coefficient: 0.002\n",
      "Variable: C44                  Coefficient: 0.001\n",
      "Variable: C66                  Coefficient: 0.001\n",
      "Variable: C74                  Coefficient: 0.001\n",
      "Variable: Assist/Check         Coefficient: 0.001\n",
      "Variable: Miles                Coefficient: 0.0\n",
      "Variable: MilesToNextStop      Coefficient: 0.0\n",
      "Variable: TotalWeight          Coefficient: 0.0\n",
      "Variable: EquipmentLength      Coefficient: 0.0\n",
      "Variable: facility_traffic     Coefficient: -0.0\n",
      "Variable: driver_exp           Coefficient: -0.0\n",
      "Variable: driver_complexity    Coefficient: 0.0\n",
      "Variable: facility_complexity  Coefficient: -0.0\n",
      "Variable: C132                 Coefficient: 0.0\n",
      "Variable: C82                  Coefficient: -0.0\n",
      "Variable: C49                  Coefficient: -0.001\n",
      "Variable: C10                  Coefficient: -0.002\n",
      "Variable: C12                  Coefficient: -0.002\n",
      "Variable: C124                 Coefficient: -0.002\n",
      "Variable: Accommodation and Food Services Coefficient: -0.002\n",
      "Variable: Retail Trade         Coefficient: -0.002\n",
      "Variable: C118                 Coefficient: -0.003\n",
      "Variable: C3                   Coefficient: -0.003\n",
      "Variable: C47                  Coefficient: -0.003\n",
      "Variable: C70                  Coefficient: -0.003\n",
      "Variable: C73                  Coefficient: -0.003\n",
      "Variable: C127                 Coefficient: -0.004\n",
      "Variable: C2                   Coefficient: -0.004\n",
      "Variable: C89                  Coefficient: -0.004\n",
      "Variable: C106                 Coefficient: -0.006\n",
      "Variable: C125                 Coefficient: -0.006\n",
      "Variable: C25                  Coefficient: -0.006\n",
      "Variable: Notice               Coefficient: -0.006\n",
      "Variable: Thu                  Coefficient: -0.006\n",
      "Variable: C133                 Coefficient: -0.007\n",
      "Variable: C134                 Coefficient: -0.007\n",
      "Variable: C5                   Coefficient: -0.007\n",
      "Variable: Agriculture, Forestry, Fishing and Hunting Coefficient: -0.007\n",
      "Variable: HourOfDay            Coefficient: -0.008\n",
      "Variable: C111                 Coefficient: -0.008\n",
      "Variable: C20                  Coefficient: -0.008\n",
      "Variable: C75                  Coefficient: -0.008\n",
      "Variable: C55                  Coefficient: -0.009\n",
      "Variable: Administrative and Support and Waste Management and Remediation Services Coefficient: -0.009\n",
      "Variable: Wholesale Trade      Coefficient: -0.009\n",
      "Variable: C0                   Coefficient: -0.01\n",
      "Variable: C46                  Coefficient: -0.01\n",
      "Variable: C113                 Coefficient: -0.011\n",
      "Variable: C6                   Coefficient: -0.011\n",
      "Variable: C78                  Coefficient: -0.011\n",
      "Variable: C103                 Coefficient: -0.012\n",
      "Variable: C115                 Coefficient: -0.012\n",
      "Variable: C129                 Coefficient: -0.012\n",
      "Variable: C88                  Coefficient: -0.012\n",
      "Variable: C91                  Coefficient: -0.013\n",
      "Variable: No Touch             Coefficient: -0.013\n",
      "Variable: C31                  Coefficient: -0.014\n",
      "Variable: C96                  Coefficient: -0.014\n",
      "Variable: Finance and Insurance Coefficient: -0.014\n",
      "Variable: C36                  Coefficient: -0.015\n",
      "Variable: C21                  Coefficient: -0.016\n",
      "Variable: C93                  Coefficient: -0.016\n",
      "Variable: C24                  Coefficient: -0.017\n",
      "Variable: C42                  Coefficient: -0.017\n",
      "Variable: Pick Up              Coefficient: -0.017\n",
      "Variable: Appt                 Coefficient: -0.018\n",
      "Variable: C101                 Coefficient: -0.019\n",
      "Variable: C108                 Coefficient: -0.019\n",
      "Variable: C9                   Coefficient: -0.019\n",
      "Variable: Fri                  Coefficient: -0.019\n",
      "Variable: C13                  Coefficient: -0.02\n",
      "Variable: C54                  Coefficient: -0.02\n",
      "Variable: C130                 Coefficient: -0.021\n",
      "Variable: C43                  Coefficient: -0.021\n",
      "Variable: C64                  Coefficient: -0.021\n",
      "Variable: Driver Count         Coefficient: -0.021\n",
      "Variable: C104                 Coefficient: -0.022\n",
      "Variable: C126                 Coefficient: -0.023\n",
      "Variable: Other Services (except Public Administration) Coefficient: -0.024\n",
      "Variable: C18                  Coefficient: -0.025\n",
      "Variable: C69                  Coefficient: -0.026\n",
      "Variable: C92                  Coefficient: -0.026\n",
      "Variable: Health Care and Social Assistance Coefficient: -0.027\n",
      "Variable: C7                   Coefficient: -0.028\n",
      "Variable: C8                   Coefficient: -0.028\n",
      "Variable: V                    Coefficient: -0.028\n",
      "Variable: C16                  Coefficient: -0.029\n",
      "Variable: Automated            Coefficient: -0.029\n",
      "Variable: C27                  Coefficient: -0.03\n",
      "Variable: C98                  Coefficient: -0.03\n",
      "Variable: C53                  Coefficient: -0.031\n",
      "Variable: Sun                  Coefficient: -0.031\n",
      "Variable: Construction         Coefficient: -0.032\n",
      "Variable: C60                  Coefficient: -0.033\n",
      "Variable: C62                  Coefficient: -0.033\n",
      "Variable: C80                  Coefficient: -0.034\n",
      "Variable: C102                 Coefficient: -0.035\n",
      "Variable: C29                  Coefficient: -0.035\n",
      "Variable: C85                  Coefficient: -0.035\n",
      "Variable: C122                 Coefficient: -0.036\n",
      "Variable: C37                  Coefficient: -0.036\n",
      "Variable: C45                  Coefficient: -0.036\n",
      "Variable: Mining, Quarrying, and Oil and Gas Extraction Coefficient: -0.036\n",
      "Variable: C114                 Coefficient: -0.037\n",
      "Variable: C28                  Coefficient: -0.038\n",
      "Variable: C110                 Coefficient: -0.043\n",
      "Variable: C72                  Coefficient: -0.043\n",
      "Variable: Driver Load          Coefficient: -0.043\n",
      "Variable: C109                 Coefficient: -0.044\n",
      "Variable: C83                  Coefficient: -0.045\n",
      "Variable: C61                  Coefficient: -0.047\n",
      "Variable: C39                  Coefficient: -0.048\n",
      "Variable: C94                  Coefficient: -0.048\n",
      "Variable: LoadStopSequence     Coefficient: -0.054\n",
      "Variable: Management of Companies and Enterprises Coefficient: -0.064\n",
      "Variable: C105                 Coefficient: -0.066\n",
      "Variable: C52                  Coefficient: -0.066\n",
      "Variable: PeakHour             Coefficient: -0.067\n",
      "Variable: Nonclassified establishment Coefficient: -0.07\n",
      "Variable: C63                  Coefficient: -0.072\n",
      "Variable: Sat                  Coefficient: -0.073\n",
      "Variable: C71                  Coefficient: -0.083\n",
      "Variable: C11                  Coefficient: -0.093\n",
      "Variable: C50                  Coefficient: -0.096\n",
      "Variable: C51                  Coefficient: -0.099\n",
      "Variable: C99                  Coefficient: -0.103\n",
      "Variable: C38                  Coefficient: -0.108\n",
      "Variable: OnTime               Coefficient: -0.124\n",
      "Variable: C48                  Coefficient: -0.135\n",
      "Variable: Unknown              Coefficient: -0.222\n"
     ]
    }
   ],
   "source": [
    "# Get variable coefficients\n",
    "coefs = reg.coef_.tolist()[0]\n",
    "# List of tuples with variable and coefficients\n",
    "feature_coef = [(feature, round(coef, 3)) for feature, coef in zip(x, coefs)]\n",
    "# Sort the coefficients by highest first\n",
    "feature_coef= sorted(feature_coef, key = lambda x: x[1], reverse = True)\n",
    "# Print out the feature and coefficients \n",
    "[print('Variable: {:20} Coefficient: {}'.format(*pair)) for pair in feature_coef];"
   ]
  },
  {
   "cell_type": "markdown",
   "metadata": {},
   "source": [
    "## Model 2 – RandomForestRegressor"
   ]
  },
  {
   "cell_type": "code",
   "execution_count": 11,
   "metadata": {},
   "outputs": [],
   "source": [
    "from sklearn.ensemble import RandomForestRegressor\n",
    "\n",
    "rfr = RandomForestRegressor(max_depth=10, min_samples_leaf=3, n_estimators=300, n_jobs=-1)\n",
    "rfr.fit(x_train, y_train.values.ravel())\n",
    "y_pred = rfr.predict(x_test)"
   ]
  },
  {
   "cell_type": "code",
   "execution_count": 325,
   "metadata": {},
   "outputs": [
    {
     "name": "stdout",
     "output_type": "stream",
     "text": [
      "MAE: 0.7639943196865182\n",
      "RMSE: 1.0317027860564651\n",
      "MAPE: 118.34082275492895\n",
      "Mean Error: 0.0005891269767494292\n"
     ]
    }
   ],
   "source": [
    "print('MAE: ' + str(mean_absolute_error(y_test, y_pred)))\n",
    "print('RMSE: ' + str(np.sqrt(mean_squared_error(y_test, y_pred))))\n",
    "print('MAPE: ' + str(mean_absolute_percentage_error(y_test.values.ravel(), y_pred)))\n",
    "print('Mean Error: ' + str(mean_error(y_test.values.ravel(), y_pred)))"
   ]
  },
  {
   "cell_type": "code",
   "execution_count": 142,
   "metadata": {},
   "outputs": [
    {
     "name": "stdout",
     "output_type": "stream",
     "text": [
      "R2: 0.19123826633363053\n",
      "OSR2: 0.17929607297749162\n"
     ]
    }
   ],
   "source": [
    "print('R2: ' + str(rfr.score(x_train, y_train)))\n",
    "print('OSR2: ' + str(rfr.score(x_test, y_test)))"
   ]
  },
  {
   "cell_type": "markdown",
   "metadata": {},
   "source": [
    "### Label Encoder"
   ]
  },
  {
   "cell_type": "code",
   "execution_count": 14,
   "metadata": {
    "scrolled": true
   },
   "outputs": [],
   "source": [
    "y_train_bin = np.ceil(y_train)\n",
    "y_test_bin = np.ceil(y_test)\n",
    "y_pred_bin = np.ceil(y_pred)"
   ]
  },
  {
   "cell_type": "code",
   "execution_count": 329,
   "metadata": {},
   "outputs": [
    {
     "name": "stdout",
     "output_type": "stream",
     "text": [
      "Accuracy: 0.37242728161742966\n",
      "F1 score: 0.30676394452066036\n"
     ]
    }
   ],
   "source": [
    "print('Accuracy: ' + str(accuracy_score(y_test_bin, y_pred_bin)))\n",
    "print('F1 score: ' + str(f1_score(y_test_bin, y_pred_bin, average='weighted')))"
   ]
  },
  {
   "cell_type": "code",
   "execution_count": 330,
   "metadata": {
    "scrolled": true
   },
   "outputs": [
    {
     "data": {
      "text/plain": [
       "array([[ 19817, 144745,  27495,    363,      4,      0],\n",
       "       [  2201, 147968,  49507,    964,     20,      0],\n",
       "       [   227,  44239,  27762,    906,     35,      0],\n",
       "       [    56,  16233,  16830,    911,     46,      1],\n",
       "       [    21,   6662,   9875,    909,     53,      2],\n",
       "       [    14,   3172,   5901,    635,     77,      1]])"
      ]
     },
     "execution_count": 330,
     "metadata": {},
     "output_type": "execute_result"
    }
   ],
   "source": [
    "from sklearn.metrics import confusion_matrix\n",
    "confusion_matrix(y_test_bin, y_pred_bin)"
   ]
  },
  {
   "cell_type": "markdown",
   "metadata": {},
   "source": [
    "### Variable Coefficients"
   ]
  },
  {
   "cell_type": "code",
   "execution_count": 141,
   "metadata": {
    "scrolled": true
   },
   "outputs": [
    {
     "name": "stdout",
     "output_type": "stream",
     "text": [
      "Variable: avg_dt               Importance: 0.855\n",
      "Variable: Miles                Importance: 0.016\n",
      "Variable: ArriveTimeUpdateType Importance: 0.015\n",
      "Variable: HourOfDay            Importance: 0.014\n",
      "Variable: driver_exp           Importance: 0.012\n",
      "Variable: driver_complexity    Importance: 0.011\n",
      "Variable: std_dt               Importance: 0.011\n",
      "Variable: TotalPallets         Importance: 0.009\n",
      "Variable: facility_complexity  Importance: 0.009\n",
      "Variable: MilesToNextStop      Importance: 0.008\n",
      "Variable: TotalWeight          Importance: 0.006\n",
      "Variable: OnTime               Importance: 0.006\n",
      "Variable: facility_traffic     Importance: 0.006\n",
      "Variable: median_dt            Importance: 0.004\n",
      "Variable: ClusterId            Importance: 0.003\n",
      "Variable: max_dt               Importance: 0.003\n",
      "Variable: ScheduleType         Importance: 0.002\n",
      "Variable: EquipmentType        Importance: 0.002\n",
      "Variable: DayOfWeek            Importance: 0.002\n",
      "Variable: DnBIndustry          Importance: 0.001\n",
      "Variable: LoadStopSequence     Importance: 0.001\n",
      "Variable: PeakHour             Importance: 0.001\n",
      "Variable: min_dt               Importance: 0.001\n",
      "Variable: BounceCount          Importance: 0.0\n",
      "Variable: Hot                  Importance: 0.0\n",
      "Variable: EquipmentLength      Importance: 0.0\n",
      "Variable: LoadStopType         Importance: 0.0\n",
      "Variable: WorkType             Importance: 0.0\n"
     ]
    }
   ],
   "source": [
    "# Get numerical feature importances\n",
    "importances = list(rfr.feature_importances_)\n",
    "# List of tuples with variable and importance\n",
    "feature_importances = [(feature, round(importance, 3)) for feature, importance in zip(x, importances)]\n",
    "# Sort the feature importances by most important first\n",
    "feature_importances = sorted(feature_importances, key = lambda x: x[1], reverse = True)\n",
    "# Print out the feature and importances \n",
    "[print('Variable: {:20} Importance: {}'.format(*pair)) for pair in feature_importances];"
   ]
  },
  {
   "cell_type": "code",
   "execution_count": 149,
   "metadata": {},
   "outputs": [],
   "source": [
    "from sklearn.inspection import permutation_importance\n",
    "result = permutation_importance(rfr, x_test, y_test, n_repeats=10, n_jobs=-1)"
   ]
  },
  {
   "cell_type": "code",
   "execution_count": 150,
   "metadata": {
    "scrolled": true
   },
   "outputs": [
    {
     "name": "stdout",
     "output_type": "stream",
     "text": [
      "Variable: avg_dt               Importance: 0.842\n",
      "Variable: ArriveTimeUpdateType Importance: 0.038\n",
      "Variable: Miles                Importance: 0.021\n",
      "Variable: HourOfDay            Importance: 0.019\n",
      "Variable: driver_exp           Importance: 0.012\n",
      "Variable: driver_complexity    Importance: 0.011\n",
      "Variable: facility_complexity  Importance: 0.01\n",
      "Variable: MilesToNextStop      Importance: 0.009\n",
      "Variable: OnTime               Importance: 0.009\n",
      "Variable: TotalPallets         Importance: 0.005\n",
      "Variable: std_dt               Importance: 0.005\n",
      "Variable: ScheduleType         Importance: 0.003\n",
      "Variable: facility_traffic     Importance: 0.003\n",
      "Variable: median_dt            Importance: 0.003\n",
      "Variable: max_dt               Importance: 0.003\n",
      "Variable: TotalWeight          Importance: 0.002\n",
      "Variable: EquipmentType        Importance: 0.002\n",
      "Variable: ClusterId            Importance: 0.001\n",
      "Variable: LoadStopSequence     Importance: 0.001\n",
      "Variable: DayOfWeek            Importance: 0.001\n",
      "Variable: BounceCount          Importance: 0.0\n",
      "Variable: Hot                  Importance: 0.0\n",
      "Variable: DnBIndustry          Importance: 0.0\n",
      "Variable: EquipmentLength      Importance: 0.0\n",
      "Variable: LoadStopType         Importance: 0.0\n",
      "Variable: WorkType             Importance: 0.0\n",
      "Variable: PeakHour             Importance: 0.0\n",
      "Variable: min_dt               Importance: 0.0\n"
     ]
    }
   ],
   "source": [
    "# Get numerical feature importances\n",
    "importances = list(result.importances_mean)\n",
    "# List of tuples with variable and importance\n",
    "permut_importances = [(feature, round(importance/result.importances_mean.sum(), 3)) for feature, importance in zip(x, importances)]\n",
    "# Sort the permutation importances by most important first\n",
    "permut_importances = sorted(permut_importances, key = lambda x: x[1], reverse = True)\n",
    "# Print out the feature and importances \n",
    "[print('Variable: {:20} Importance: {}'.format(*pair)) for pair in permut_importances];"
   ]
  },
  {
   "cell_type": "markdown",
   "metadata": {},
   "source": [
    "## Model 3 – GradientBoostingRegressor"
   ]
  },
  {
   "cell_type": "code",
   "execution_count": 20,
   "metadata": {},
   "outputs": [],
   "source": [
    "from sklearn.ensemble import GradientBoostingRegressor\n",
    "\n",
    "gbrt = GradientBoostingRegressor(max_depth=5, n_estimators=30, learning_rate=1.0)\n",
    "gbrt.fit(x_train, y_train.values.ravel())\n",
    "y_pred = gbrt.predict(x_test)"
   ]
  },
  {
   "cell_type": "code",
   "execution_count": 9,
   "metadata": {},
   "outputs": [
    {
     "name": "stdout",
     "output_type": "stream",
     "text": [
      "MAE: 0.764033146036543\n",
      "RMSE: 1.0312611307006379\n",
      "MAPE: 117.10888414542615\n",
      "Mean Error: 0.0003916000240295572\n"
     ]
    }
   ],
   "source": [
    "print('MAE: ' + str(mean_absolute_error(y_test, y_pred)))\n",
    "print('RMSE: ' + str(np.sqrt(mean_squared_error(y_test, y_pred))))\n",
    "print('MAPE: ' + str(mean_absolute_percentage_error(y_test.values.ravel(), y_pred)))\n",
    "print('Mean Error: ' + str(mean_error(y_test.values.ravel(), y_pred)))"
   ]
  },
  {
   "cell_type": "code",
   "execution_count": 11,
   "metadata": {},
   "outputs": [
    {
     "name": "stdout",
     "output_type": "stream",
     "text": [
      "R2: 0.18981631970247204\n",
      "OSR2: 0.17998528964204863\n"
     ]
    }
   ],
   "source": [
    "print('R2: ' + str(gbrt.score(x_train, y_train)))\n",
    "print('OSR2: ' + str(gbrt.score(x_test, y_test)))"
   ]
  },
  {
   "cell_type": "markdown",
   "metadata": {},
   "source": [
    "### Label Encoder"
   ]
  },
  {
   "cell_type": "code",
   "execution_count": 14,
   "metadata": {
    "scrolled": true
   },
   "outputs": [
    {
     "name": "stdout",
     "output_type": "stream",
     "text": [
      "[0 1 2 3 4 5 6]\n"
     ]
    }
   ],
   "source": [
    "from sklearn import preprocessing\n",
    "le = preprocessing.LabelEncoder()\n",
    "le.fit(list(range(0, 7)))\n",
    "print(le.classes_)"
   ]
  },
  {
   "cell_type": "code",
   "execution_count": 15,
   "metadata": {},
   "outputs": [],
   "source": [
    "# set min/max\n",
    "y_pred[y_pred<0] = 0.1\n",
    "y_pred[y_pred>6] = 5.9"
   ]
  },
  {
   "cell_type": "code",
   "execution_count": 16,
   "metadata": {
    "scrolled": true
   },
   "outputs": [
    {
     "name": "stderr",
     "output_type": "stream",
     "text": [
      "/opt/anaconda3/lib/python3.7/site-packages/sklearn/preprocessing/_label.py:268: DataConversionWarning: A column-vector y was passed when a 1d array was expected. Please change the shape of y to (n_samples, ), for example using ravel().\n",
      "  y = column_or_1d(y, warn=True)\n"
     ]
    }
   ],
   "source": [
    "y_train_bin = le.transform(np.ceil(y_train))\n",
    "y_test_bin = le.transform(np.ceil(y_test))\n",
    "y_pred_bin = le.transform(np.ceil(y_pred))"
   ]
  },
  {
   "cell_type": "code",
   "execution_count": 18,
   "metadata": {},
   "outputs": [
    {
     "name": "stdout",
     "output_type": "stream",
     "text": [
      "Accuracy: 0.38017670737531556\n",
      "F1 score: 0.32715802492902507\n"
     ]
    }
   ],
   "source": [
    "print('Accuracy: ' + str(accuracy_score(y_test_bin, y_pred_bin)))\n",
    "print('F1 score: ' + str(f1_score(y_test_bin, y_pred_bin, average='weighted')))"
   ]
  },
  {
   "cell_type": "code",
   "execution_count": 19,
   "metadata": {},
   "outputs": [
    {
     "data": {
      "text/plain": [
       "array([[ 26182, 137655,  27866,    688,     25,      8],\n",
       "       [  3699, 144488,  50830,   1574,     64,      5],\n",
       "       [   445,  42862,  28372,   1419,     63,      8],\n",
       "       [   126,  15643,  16793,   1438,     66,     11],\n",
       "       [    55,   6499,   9566,   1295,     97,     10],\n",
       "       [    29,   2993,   5751,    900,    103,     24]])"
      ]
     },
     "execution_count": 19,
     "metadata": {},
     "output_type": "execute_result"
    }
   ],
   "source": [
    "from sklearn.metrics import confusion_matrix\n",
    "confusion_matrix(y_test_bin, y_pred_bin)"
   ]
  },
  {
   "cell_type": "markdown",
   "metadata": {},
   "source": [
    "# Part B - Classification Approach (1-hr Binning)"
   ]
  },
  {
   "cell_type": "markdown",
   "metadata": {},
   "source": [
    "### Split Train/Test Data"
   ]
  },
  {
   "cell_type": "code",
   "execution_count": 402,
   "metadata": {},
   "outputs": [
    {
     "data": {
      "text/html": [
       "<div>\n",
       "<style scoped>\n",
       "    .dataframe tbody tr th:only-of-type {\n",
       "        vertical-align: middle;\n",
       "    }\n",
       "\n",
       "    .dataframe tbody tr th {\n",
       "        vertical-align: top;\n",
       "    }\n",
       "\n",
       "    .dataframe thead th {\n",
       "        text-align: right;\n",
       "    }\n",
       "</style>\n",
       "<table border=\"1\" class=\"dataframe\">\n",
       "  <thead>\n",
       "    <tr style=\"text-align: right;\">\n",
       "      <th></th>\n",
       "      <th>Miles</th>\n",
       "      <th>MilesToNextStop</th>\n",
       "      <th>BounceCount</th>\n",
       "      <th>TotalPallets</th>\n",
       "      <th>TotalWeight</th>\n",
       "      <th>Hot</th>\n",
       "      <th>EquipmentLength</th>\n",
       "      <th>LoadStopSequence</th>\n",
       "      <th>OnTime</th>\n",
       "      <th>HourOfDay</th>\n",
       "      <th>PeakHour</th>\n",
       "      <th>facility_traffic</th>\n",
       "      <th>driver_exp</th>\n",
       "      <th>driver_complexity</th>\n",
       "      <th>facility_complexity</th>\n",
       "      <th>avg_dt</th>\n",
       "      <th>median_dt</th>\n",
       "      <th>min_dt</th>\n",
       "      <th>max_dt</th>\n",
       "      <th>std_dt</th>\n",
       "      <th>C0</th>\n",
       "      <th>C1</th>\n",
       "      <th>C10</th>\n",
       "      <th>C100</th>\n",
       "      <th>C101</th>\n",
       "      <th>C102</th>\n",
       "      <th>C103</th>\n",
       "      <th>C104</th>\n",
       "      <th>C105</th>\n",
       "      <th>C106</th>\n",
       "      <th>C107</th>\n",
       "      <th>C108</th>\n",
       "      <th>C109</th>\n",
       "      <th>C11</th>\n",
       "      <th>C110</th>\n",
       "      <th>C111</th>\n",
       "      <th>C112</th>\n",
       "      <th>C113</th>\n",
       "      <th>C114</th>\n",
       "      <th>C115</th>\n",
       "      <th>C116</th>\n",
       "      <th>C117</th>\n",
       "      <th>C118</th>\n",
       "      <th>C119</th>\n",
       "      <th>C12</th>\n",
       "      <th>C120</th>\n",
       "      <th>C121</th>\n",
       "      <th>C122</th>\n",
       "      <th>C123</th>\n",
       "      <th>C124</th>\n",
       "      <th>...</th>\n",
       "      <th>C94</th>\n",
       "      <th>C95</th>\n",
       "      <th>C96</th>\n",
       "      <th>C97</th>\n",
       "      <th>C98</th>\n",
       "      <th>C99</th>\n",
       "      <th>Automated</th>\n",
       "      <th>Manual</th>\n",
       "      <th>Accommodation and Food Services</th>\n",
       "      <th>Administrative and Support and Waste Management and Remediation Services</th>\n",
       "      <th>Agriculture, Forestry, Fishing and Hunting</th>\n",
       "      <th>Arts, Entertainment, and Recreation</th>\n",
       "      <th>Construction</th>\n",
       "      <th>Educational Services</th>\n",
       "      <th>Finance and Insurance</th>\n",
       "      <th>Health Care and Social Assistance</th>\n",
       "      <th>Information</th>\n",
       "      <th>Management of Companies and Enterprises</th>\n",
       "      <th>Manufacturing</th>\n",
       "      <th>Mining, Quarrying, and Oil and Gas Extraction</th>\n",
       "      <th>Nonclassified establishment</th>\n",
       "      <th>Other Services (except Public Administration)</th>\n",
       "      <th>Professional, Scientific, and Technical Services</th>\n",
       "      <th>Public Administration</th>\n",
       "      <th>Real Estate and Rental and Leasing</th>\n",
       "      <th>Retail Trade</th>\n",
       "      <th>Transportation and Warehousing</th>\n",
       "      <th>Utilities</th>\n",
       "      <th>Wholesale Trade</th>\n",
       "      <th>Appt</th>\n",
       "      <th>None</th>\n",
       "      <th>Notice</th>\n",
       "      <th>Open</th>\n",
       "      <th>R</th>\n",
       "      <th>V</th>\n",
       "      <th>Delivery</th>\n",
       "      <th>Pick Up</th>\n",
       "      <th>Assist/Check</th>\n",
       "      <th>Driver Count</th>\n",
       "      <th>Driver Load</th>\n",
       "      <th>Lumper</th>\n",
       "      <th>No Touch</th>\n",
       "      <th>Unknown</th>\n",
       "      <th>Fri</th>\n",
       "      <th>Mon</th>\n",
       "      <th>Sat</th>\n",
       "      <th>Sun</th>\n",
       "      <th>Thu</th>\n",
       "      <th>Tue</th>\n",
       "      <th>Wed</th>\n",
       "    </tr>\n",
       "  </thead>\n",
       "  <tbody>\n",
       "    <tr>\n",
       "      <th>1748899</th>\n",
       "      <td>23.0</td>\n",
       "      <td>0.0</td>\n",
       "      <td>0.0</td>\n",
       "      <td>4</td>\n",
       "      <td>1525.000</td>\n",
       "      <td>False</td>\n",
       "      <td>53.0</td>\n",
       "      <td>2</td>\n",
       "      <td>1</td>\n",
       "      <td>9</td>\n",
       "      <td>1</td>\n",
       "      <td>1</td>\n",
       "      <td>342</td>\n",
       "      <td>2</td>\n",
       "      <td>2</td>\n",
       "      <td>1.360000</td>\n",
       "      <td>1.15</td>\n",
       "      <td>0.500000</td>\n",
       "      <td>2.05</td>\n",
       "      <td>0.664747</td>\n",
       "      <td>0</td>\n",
       "      <td>0</td>\n",
       "      <td>0</td>\n",
       "      <td>0</td>\n",
       "      <td>0</td>\n",
       "      <td>0</td>\n",
       "      <td>0</td>\n",
       "      <td>0</td>\n",
       "      <td>0</td>\n",
       "      <td>0</td>\n",
       "      <td>0</td>\n",
       "      <td>0</td>\n",
       "      <td>0</td>\n",
       "      <td>0</td>\n",
       "      <td>0</td>\n",
       "      <td>0</td>\n",
       "      <td>0</td>\n",
       "      <td>0</td>\n",
       "      <td>0</td>\n",
       "      <td>0</td>\n",
       "      <td>0</td>\n",
       "      <td>0</td>\n",
       "      <td>0</td>\n",
       "      <td>0</td>\n",
       "      <td>0</td>\n",
       "      <td>0</td>\n",
       "      <td>0</td>\n",
       "      <td>0</td>\n",
       "      <td>0</td>\n",
       "      <td>0</td>\n",
       "      <td>...</td>\n",
       "      <td>0</td>\n",
       "      <td>0</td>\n",
       "      <td>0</td>\n",
       "      <td>0</td>\n",
       "      <td>0</td>\n",
       "      <td>0</td>\n",
       "      <td>0</td>\n",
       "      <td>1</td>\n",
       "      <td>0</td>\n",
       "      <td>0</td>\n",
       "      <td>0</td>\n",
       "      <td>0</td>\n",
       "      <td>0</td>\n",
       "      <td>0</td>\n",
       "      <td>0</td>\n",
       "      <td>0</td>\n",
       "      <td>0</td>\n",
       "      <td>0</td>\n",
       "      <td>0</td>\n",
       "      <td>0</td>\n",
       "      <td>0</td>\n",
       "      <td>0</td>\n",
       "      <td>0</td>\n",
       "      <td>0</td>\n",
       "      <td>0</td>\n",
       "      <td>0</td>\n",
       "      <td>0</td>\n",
       "      <td>0</td>\n",
       "      <td>1</td>\n",
       "      <td>1</td>\n",
       "      <td>0</td>\n",
       "      <td>0</td>\n",
       "      <td>0</td>\n",
       "      <td>0</td>\n",
       "      <td>1</td>\n",
       "      <td>1</td>\n",
       "      <td>0</td>\n",
       "      <td>1</td>\n",
       "      <td>0</td>\n",
       "      <td>0</td>\n",
       "      <td>0</td>\n",
       "      <td>0</td>\n",
       "      <td>0</td>\n",
       "      <td>0</td>\n",
       "      <td>0</td>\n",
       "      <td>0</td>\n",
       "      <td>0</td>\n",
       "      <td>1</td>\n",
       "      <td>0</td>\n",
       "      <td>0</td>\n",
       "    </tr>\n",
       "    <tr>\n",
       "      <th>280247</th>\n",
       "      <td>378.0</td>\n",
       "      <td>378.0</td>\n",
       "      <td>0.0</td>\n",
       "      <td>31</td>\n",
       "      <td>45408.352</td>\n",
       "      <td>False</td>\n",
       "      <td>53.0</td>\n",
       "      <td>1</td>\n",
       "      <td>0</td>\n",
       "      <td>14</td>\n",
       "      <td>1</td>\n",
       "      <td>64</td>\n",
       "      <td>583</td>\n",
       "      <td>62</td>\n",
       "      <td>1433</td>\n",
       "      <td>2.274595</td>\n",
       "      <td>2.00</td>\n",
       "      <td>0.016667</td>\n",
       "      <td>6.00</td>\n",
       "      <td>1.287106</td>\n",
       "      <td>0</td>\n",
       "      <td>0</td>\n",
       "      <td>0</td>\n",
       "      <td>0</td>\n",
       "      <td>0</td>\n",
       "      <td>0</td>\n",
       "      <td>0</td>\n",
       "      <td>0</td>\n",
       "      <td>0</td>\n",
       "      <td>0</td>\n",
       "      <td>0</td>\n",
       "      <td>0</td>\n",
       "      <td>0</td>\n",
       "      <td>0</td>\n",
       "      <td>0</td>\n",
       "      <td>0</td>\n",
       "      <td>0</td>\n",
       "      <td>0</td>\n",
       "      <td>0</td>\n",
       "      <td>0</td>\n",
       "      <td>0</td>\n",
       "      <td>0</td>\n",
       "      <td>0</td>\n",
       "      <td>0</td>\n",
       "      <td>0</td>\n",
       "      <td>0</td>\n",
       "      <td>0</td>\n",
       "      <td>0</td>\n",
       "      <td>0</td>\n",
       "      <td>0</td>\n",
       "      <td>...</td>\n",
       "      <td>0</td>\n",
       "      <td>0</td>\n",
       "      <td>0</td>\n",
       "      <td>0</td>\n",
       "      <td>0</td>\n",
       "      <td>0</td>\n",
       "      <td>1</td>\n",
       "      <td>0</td>\n",
       "      <td>0</td>\n",
       "      <td>0</td>\n",
       "      <td>0</td>\n",
       "      <td>0</td>\n",
       "      <td>0</td>\n",
       "      <td>0</td>\n",
       "      <td>0</td>\n",
       "      <td>0</td>\n",
       "      <td>0</td>\n",
       "      <td>0</td>\n",
       "      <td>1</td>\n",
       "      <td>0</td>\n",
       "      <td>0</td>\n",
       "      <td>0</td>\n",
       "      <td>0</td>\n",
       "      <td>0</td>\n",
       "      <td>0</td>\n",
       "      <td>0</td>\n",
       "      <td>0</td>\n",
       "      <td>0</td>\n",
       "      <td>0</td>\n",
       "      <td>1</td>\n",
       "      <td>0</td>\n",
       "      <td>0</td>\n",
       "      <td>0</td>\n",
       "      <td>0</td>\n",
       "      <td>1</td>\n",
       "      <td>0</td>\n",
       "      <td>1</td>\n",
       "      <td>0</td>\n",
       "      <td>0</td>\n",
       "      <td>0</td>\n",
       "      <td>0</td>\n",
       "      <td>1</td>\n",
       "      <td>0</td>\n",
       "      <td>0</td>\n",
       "      <td>0</td>\n",
       "      <td>0</td>\n",
       "      <td>0</td>\n",
       "      <td>1</td>\n",
       "      <td>0</td>\n",
       "      <td>0</td>\n",
       "    </tr>\n",
       "    <tr>\n",
       "      <th>1686029</th>\n",
       "      <td>2972.0</td>\n",
       "      <td>2972.0</td>\n",
       "      <td>0.0</td>\n",
       "      <td>32</td>\n",
       "      <td>25000.000</td>\n",
       "      <td>False</td>\n",
       "      <td>53.0</td>\n",
       "      <td>1</td>\n",
       "      <td>1</td>\n",
       "      <td>12</td>\n",
       "      <td>1</td>\n",
       "      <td>1</td>\n",
       "      <td>229</td>\n",
       "      <td>49</td>\n",
       "      <td>5</td>\n",
       "      <td>1.601852</td>\n",
       "      <td>1.50</td>\n",
       "      <td>0.500000</td>\n",
       "      <td>3.00</td>\n",
       "      <td>0.828924</td>\n",
       "      <td>0</td>\n",
       "      <td>0</td>\n",
       "      <td>0</td>\n",
       "      <td>0</td>\n",
       "      <td>0</td>\n",
       "      <td>0</td>\n",
       "      <td>0</td>\n",
       "      <td>0</td>\n",
       "      <td>0</td>\n",
       "      <td>0</td>\n",
       "      <td>0</td>\n",
       "      <td>0</td>\n",
       "      <td>0</td>\n",
       "      <td>0</td>\n",
       "      <td>0</td>\n",
       "      <td>0</td>\n",
       "      <td>0</td>\n",
       "      <td>0</td>\n",
       "      <td>0</td>\n",
       "      <td>0</td>\n",
       "      <td>0</td>\n",
       "      <td>0</td>\n",
       "      <td>0</td>\n",
       "      <td>0</td>\n",
       "      <td>0</td>\n",
       "      <td>0</td>\n",
       "      <td>0</td>\n",
       "      <td>0</td>\n",
       "      <td>0</td>\n",
       "      <td>1</td>\n",
       "      <td>...</td>\n",
       "      <td>0</td>\n",
       "      <td>0</td>\n",
       "      <td>0</td>\n",
       "      <td>0</td>\n",
       "      <td>0</td>\n",
       "      <td>0</td>\n",
       "      <td>0</td>\n",
       "      <td>1</td>\n",
       "      <td>0</td>\n",
       "      <td>0</td>\n",
       "      <td>0</td>\n",
       "      <td>0</td>\n",
       "      <td>0</td>\n",
       "      <td>0</td>\n",
       "      <td>0</td>\n",
       "      <td>0</td>\n",
       "      <td>0</td>\n",
       "      <td>0</td>\n",
       "      <td>1</td>\n",
       "      <td>0</td>\n",
       "      <td>0</td>\n",
       "      <td>0</td>\n",
       "      <td>0</td>\n",
       "      <td>0</td>\n",
       "      <td>0</td>\n",
       "      <td>0</td>\n",
       "      <td>0</td>\n",
       "      <td>0</td>\n",
       "      <td>0</td>\n",
       "      <td>0</td>\n",
       "      <td>0</td>\n",
       "      <td>0</td>\n",
       "      <td>1</td>\n",
       "      <td>0</td>\n",
       "      <td>1</td>\n",
       "      <td>0</td>\n",
       "      <td>1</td>\n",
       "      <td>0</td>\n",
       "      <td>0</td>\n",
       "      <td>0</td>\n",
       "      <td>0</td>\n",
       "      <td>1</td>\n",
       "      <td>0</td>\n",
       "      <td>0</td>\n",
       "      <td>0</td>\n",
       "      <td>0</td>\n",
       "      <td>0</td>\n",
       "      <td>1</td>\n",
       "      <td>0</td>\n",
       "      <td>0</td>\n",
       "    </tr>\n",
       "    <tr>\n",
       "      <th>471518</th>\n",
       "      <td>302.0</td>\n",
       "      <td>0.0</td>\n",
       "      <td>0.0</td>\n",
       "      <td>52</td>\n",
       "      <td>25899.000</td>\n",
       "      <td>False</td>\n",
       "      <td>53.0</td>\n",
       "      <td>2</td>\n",
       "      <td>1</td>\n",
       "      <td>8</td>\n",
       "      <td>1</td>\n",
       "      <td>64</td>\n",
       "      <td>2118</td>\n",
       "      <td>1</td>\n",
       "      <td>286</td>\n",
       "      <td>1.693054</td>\n",
       "      <td>2.00</td>\n",
       "      <td>0.016667</td>\n",
       "      <td>6.00</td>\n",
       "      <td>0.839518</td>\n",
       "      <td>0</td>\n",
       "      <td>0</td>\n",
       "      <td>0</td>\n",
       "      <td>0</td>\n",
       "      <td>0</td>\n",
       "      <td>0</td>\n",
       "      <td>0</td>\n",
       "      <td>0</td>\n",
       "      <td>0</td>\n",
       "      <td>0</td>\n",
       "      <td>0</td>\n",
       "      <td>0</td>\n",
       "      <td>0</td>\n",
       "      <td>0</td>\n",
       "      <td>0</td>\n",
       "      <td>0</td>\n",
       "      <td>0</td>\n",
       "      <td>0</td>\n",
       "      <td>0</td>\n",
       "      <td>0</td>\n",
       "      <td>0</td>\n",
       "      <td>0</td>\n",
       "      <td>0</td>\n",
       "      <td>0</td>\n",
       "      <td>0</td>\n",
       "      <td>0</td>\n",
       "      <td>0</td>\n",
       "      <td>0</td>\n",
       "      <td>0</td>\n",
       "      <td>0</td>\n",
       "      <td>...</td>\n",
       "      <td>0</td>\n",
       "      <td>0</td>\n",
       "      <td>0</td>\n",
       "      <td>0</td>\n",
       "      <td>0</td>\n",
       "      <td>0</td>\n",
       "      <td>0</td>\n",
       "      <td>1</td>\n",
       "      <td>0</td>\n",
       "      <td>1</td>\n",
       "      <td>0</td>\n",
       "      <td>0</td>\n",
       "      <td>0</td>\n",
       "      <td>0</td>\n",
       "      <td>0</td>\n",
       "      <td>0</td>\n",
       "      <td>0</td>\n",
       "      <td>0</td>\n",
       "      <td>0</td>\n",
       "      <td>0</td>\n",
       "      <td>0</td>\n",
       "      <td>0</td>\n",
       "      <td>0</td>\n",
       "      <td>0</td>\n",
       "      <td>0</td>\n",
       "      <td>0</td>\n",
       "      <td>0</td>\n",
       "      <td>0</td>\n",
       "      <td>0</td>\n",
       "      <td>1</td>\n",
       "      <td>0</td>\n",
       "      <td>0</td>\n",
       "      <td>0</td>\n",
       "      <td>0</td>\n",
       "      <td>1</td>\n",
       "      <td>1</td>\n",
       "      <td>0</td>\n",
       "      <td>0</td>\n",
       "      <td>0</td>\n",
       "      <td>0</td>\n",
       "      <td>0</td>\n",
       "      <td>1</td>\n",
       "      <td>0</td>\n",
       "      <td>0</td>\n",
       "      <td>0</td>\n",
       "      <td>0</td>\n",
       "      <td>0</td>\n",
       "      <td>0</td>\n",
       "      <td>1</td>\n",
       "      <td>0</td>\n",
       "    </tr>\n",
       "    <tr>\n",
       "      <th>103745</th>\n",
       "      <td>72.0</td>\n",
       "      <td>0.0</td>\n",
       "      <td>0.0</td>\n",
       "      <td>48</td>\n",
       "      <td>42768.000</td>\n",
       "      <td>False</td>\n",
       "      <td>53.0</td>\n",
       "      <td>2</td>\n",
       "      <td>1</td>\n",
       "      <td>5</td>\n",
       "      <td>0</td>\n",
       "      <td>14</td>\n",
       "      <td>22</td>\n",
       "      <td>5</td>\n",
       "      <td>1072</td>\n",
       "      <td>1.653821</td>\n",
       "      <td>1.50</td>\n",
       "      <td>0.016667</td>\n",
       "      <td>6.00</td>\n",
       "      <td>0.902175</td>\n",
       "      <td>0</td>\n",
       "      <td>0</td>\n",
       "      <td>0</td>\n",
       "      <td>0</td>\n",
       "      <td>0</td>\n",
       "      <td>0</td>\n",
       "      <td>0</td>\n",
       "      <td>0</td>\n",
       "      <td>0</td>\n",
       "      <td>0</td>\n",
       "      <td>0</td>\n",
       "      <td>0</td>\n",
       "      <td>0</td>\n",
       "      <td>0</td>\n",
       "      <td>0</td>\n",
       "      <td>0</td>\n",
       "      <td>0</td>\n",
       "      <td>0</td>\n",
       "      <td>0</td>\n",
       "      <td>0</td>\n",
       "      <td>0</td>\n",
       "      <td>0</td>\n",
       "      <td>0</td>\n",
       "      <td>0</td>\n",
       "      <td>0</td>\n",
       "      <td>0</td>\n",
       "      <td>0</td>\n",
       "      <td>0</td>\n",
       "      <td>1</td>\n",
       "      <td>0</td>\n",
       "      <td>...</td>\n",
       "      <td>0</td>\n",
       "      <td>0</td>\n",
       "      <td>0</td>\n",
       "      <td>0</td>\n",
       "      <td>0</td>\n",
       "      <td>0</td>\n",
       "      <td>0</td>\n",
       "      <td>1</td>\n",
       "      <td>0</td>\n",
       "      <td>0</td>\n",
       "      <td>0</td>\n",
       "      <td>0</td>\n",
       "      <td>0</td>\n",
       "      <td>0</td>\n",
       "      <td>0</td>\n",
       "      <td>0</td>\n",
       "      <td>0</td>\n",
       "      <td>0</td>\n",
       "      <td>0</td>\n",
       "      <td>0</td>\n",
       "      <td>0</td>\n",
       "      <td>0</td>\n",
       "      <td>0</td>\n",
       "      <td>0</td>\n",
       "      <td>0</td>\n",
       "      <td>0</td>\n",
       "      <td>0</td>\n",
       "      <td>0</td>\n",
       "      <td>1</td>\n",
       "      <td>1</td>\n",
       "      <td>0</td>\n",
       "      <td>0</td>\n",
       "      <td>0</td>\n",
       "      <td>1</td>\n",
       "      <td>0</td>\n",
       "      <td>1</td>\n",
       "      <td>0</td>\n",
       "      <td>0</td>\n",
       "      <td>0</td>\n",
       "      <td>0</td>\n",
       "      <td>0</td>\n",
       "      <td>1</td>\n",
       "      <td>0</td>\n",
       "      <td>0</td>\n",
       "      <td>0</td>\n",
       "      <td>0</td>\n",
       "      <td>0</td>\n",
       "      <td>0</td>\n",
       "      <td>1</td>\n",
       "      <td>0</td>\n",
       "    </tr>\n",
       "  </tbody>\n",
       "</table>\n",
       "<p>5 rows × 201 columns</p>\n",
       "</div>"
      ],
      "text/plain": [
       "          Miles  MilesToNextStop  BounceCount  TotalPallets  TotalWeight  \\\n",
       "1748899    23.0              0.0          0.0             4     1525.000   \n",
       "280247    378.0            378.0          0.0            31    45408.352   \n",
       "1686029  2972.0           2972.0          0.0            32    25000.000   \n",
       "471518    302.0              0.0          0.0            52    25899.000   \n",
       "103745     72.0              0.0          0.0            48    42768.000   \n",
       "\n",
       "           Hot  EquipmentLength  LoadStopSequence  OnTime  HourOfDay  \\\n",
       "1748899  False             53.0                 2       1          9   \n",
       "280247   False             53.0                 1       0         14   \n",
       "1686029  False             53.0                 1       1         12   \n",
       "471518   False             53.0                 2       1          8   \n",
       "103745   False             53.0                 2       1          5   \n",
       "\n",
       "         PeakHour  facility_traffic  driver_exp  driver_complexity  \\\n",
       "1748899         1                 1         342                  2   \n",
       "280247          1                64         583                 62   \n",
       "1686029         1                 1         229                 49   \n",
       "471518          1                64        2118                  1   \n",
       "103745          0                14          22                  5   \n",
       "\n",
       "         facility_complexity    avg_dt  median_dt    min_dt  max_dt    std_dt  \\\n",
       "1748899                    2  1.360000       1.15  0.500000    2.05  0.664747   \n",
       "280247                  1433  2.274595       2.00  0.016667    6.00  1.287106   \n",
       "1686029                    5  1.601852       1.50  0.500000    3.00  0.828924   \n",
       "471518                   286  1.693054       2.00  0.016667    6.00  0.839518   \n",
       "103745                  1072  1.653821       1.50  0.016667    6.00  0.902175   \n",
       "\n",
       "         C0  C1  C10  C100  C101  C102  C103  C104  C105  C106  C107  C108  \\\n",
       "1748899   0   0    0     0     0     0     0     0     0     0     0     0   \n",
       "280247    0   0    0     0     0     0     0     0     0     0     0     0   \n",
       "1686029   0   0    0     0     0     0     0     0     0     0     0     0   \n",
       "471518    0   0    0     0     0     0     0     0     0     0     0     0   \n",
       "103745    0   0    0     0     0     0     0     0     0     0     0     0   \n",
       "\n",
       "         C109  C11  C110  C111  C112  C113  C114  C115  C116  C117  C118  \\\n",
       "1748899     0    0     0     0     0     0     0     0     0     0     0   \n",
       "280247      0    0     0     0     0     0     0     0     0     0     0   \n",
       "1686029     0    0     0     0     0     0     0     0     0     0     0   \n",
       "471518      0    0     0     0     0     0     0     0     0     0     0   \n",
       "103745      0    0     0     0     0     0     0     0     0     0     0   \n",
       "\n",
       "         C119  C12  C120  C121  C122  C123  C124  ...  C94  C95  C96  C97  \\\n",
       "1748899     0    0     0     0     0     0     0  ...    0    0    0    0   \n",
       "280247      0    0     0     0     0     0     0  ...    0    0    0    0   \n",
       "1686029     0    0     0     0     0     0     1  ...    0    0    0    0   \n",
       "471518      0    0     0     0     0     0     0  ...    0    0    0    0   \n",
       "103745      0    0     0     0     0     1     0  ...    0    0    0    0   \n",
       "\n",
       "         C98  C99  Automated  Manual  Accommodation and Food Services  \\\n",
       "1748899    0    0          0       1                                0   \n",
       "280247     0    0          1       0                                0   \n",
       "1686029    0    0          0       1                                0   \n",
       "471518     0    0          0       1                                0   \n",
       "103745     0    0          0       1                                0   \n",
       "\n",
       "         Administrative and Support and Waste Management and Remediation Services  \\\n",
       "1748899                                                  0                          \n",
       "280247                                                   0                          \n",
       "1686029                                                  0                          \n",
       "471518                                                   1                          \n",
       "103745                                                   0                          \n",
       "\n",
       "         Agriculture, Forestry, Fishing and Hunting  \\\n",
       "1748899                                           0   \n",
       "280247                                            0   \n",
       "1686029                                           0   \n",
       "471518                                            0   \n",
       "103745                                            0   \n",
       "\n",
       "         Arts, Entertainment, and Recreation  Construction  \\\n",
       "1748899                                    0             0   \n",
       "280247                                     0             0   \n",
       "1686029                                    0             0   \n",
       "471518                                     0             0   \n",
       "103745                                     0             0   \n",
       "\n",
       "         Educational Services  Finance and Insurance  \\\n",
       "1748899                     0                      0   \n",
       "280247                      0                      0   \n",
       "1686029                     0                      0   \n",
       "471518                      0                      0   \n",
       "103745                      0                      0   \n",
       "\n",
       "         Health Care and Social Assistance  Information  \\\n",
       "1748899                                  0            0   \n",
       "280247                                   0            0   \n",
       "1686029                                  0            0   \n",
       "471518                                   0            0   \n",
       "103745                                   0            0   \n",
       "\n",
       "         Management of Companies and Enterprises  Manufacturing  \\\n",
       "1748899                                        0              0   \n",
       "280247                                         0              1   \n",
       "1686029                                        0              1   \n",
       "471518                                         0              0   \n",
       "103745                                         0              0   \n",
       "\n",
       "         Mining, Quarrying, and Oil and Gas Extraction  \\\n",
       "1748899                                              0   \n",
       "280247                                               0   \n",
       "1686029                                              0   \n",
       "471518                                               0   \n",
       "103745                                               0   \n",
       "\n",
       "         Nonclassified establishment  \\\n",
       "1748899                            0   \n",
       "280247                             0   \n",
       "1686029                            0   \n",
       "471518                             0   \n",
       "103745                             0   \n",
       "\n",
       "         Other Services (except Public Administration)  \\\n",
       "1748899                                              0   \n",
       "280247                                               0   \n",
       "1686029                                              0   \n",
       "471518                                               0   \n",
       "103745                                               0   \n",
       "\n",
       "         Professional, Scientific, and Technical Services  \\\n",
       "1748899                                                 0   \n",
       "280247                                                  0   \n",
       "1686029                                                 0   \n",
       "471518                                                  0   \n",
       "103745                                                  0   \n",
       "\n",
       "         Public Administration  Real Estate and Rental and Leasing  \\\n",
       "1748899                      0                                   0   \n",
       "280247                       0                                   0   \n",
       "1686029                      0                                   0   \n",
       "471518                       0                                   0   \n",
       "103745                       0                                   0   \n",
       "\n",
       "         Retail Trade  Transportation and Warehousing  Utilities  \\\n",
       "1748899             0                               0          0   \n",
       "280247              0                               0          0   \n",
       "1686029             0                               0          0   \n",
       "471518              0                               0          0   \n",
       "103745              0                               0          0   \n",
       "\n",
       "         Wholesale Trade  Appt  None  Notice  Open  R  V  Delivery  Pick Up  \\\n",
       "1748899                1     1     0       0     0  0  1         1        0   \n",
       "280247                 0     1     0       0     0  0  1         0        1   \n",
       "1686029                0     0     0       0     1  0  1         0        1   \n",
       "471518                 0     1     0       0     0  0  1         1        0   \n",
       "103745                 1     1     0       0     0  1  0         1        0   \n",
       "\n",
       "         Assist/Check  Driver Count  Driver Load  Lumper  No Touch  Unknown  \\\n",
       "1748899             1             0            0       0         0        0   \n",
       "280247              0             0            0       0         1        0   \n",
       "1686029             0             0            0       0         1        0   \n",
       "471518              0             0            0       0         1        0   \n",
       "103745              0             0            0       0         1        0   \n",
       "\n",
       "         Fri  Mon  Sat  Sun  Thu  Tue  Wed  \n",
       "1748899    0    0    0    0    1    0    0  \n",
       "280247     0    0    0    0    1    0    0  \n",
       "1686029    0    0    0    0    1    0    0  \n",
       "471518     0    0    0    0    0    1    0  \n",
       "103745     0    0    0    0    0    1    0  \n",
       "\n",
       "[5 rows x 201 columns]"
      ]
     },
     "metadata": {},
     "output_type": "display_data"
    },
    {
     "data": {
      "text/html": [
       "<div>\n",
       "<style scoped>\n",
       "    .dataframe tbody tr th:only-of-type {\n",
       "        vertical-align: middle;\n",
       "    }\n",
       "\n",
       "    .dataframe tbody tr th {\n",
       "        vertical-align: top;\n",
       "    }\n",
       "\n",
       "    .dataframe thead th {\n",
       "        text-align: right;\n",
       "    }\n",
       "</style>\n",
       "<table border=\"1\" class=\"dataframe\">\n",
       "  <thead>\n",
       "    <tr style=\"text-align: right;\">\n",
       "      <th></th>\n",
       "      <th>DwellTime</th>\n",
       "    </tr>\n",
       "  </thead>\n",
       "  <tbody>\n",
       "    <tr>\n",
       "      <th>1748899</th>\n",
       "      <td>1.083333</td>\n",
       "    </tr>\n",
       "    <tr>\n",
       "      <th>280247</th>\n",
       "      <td>0.983333</td>\n",
       "    </tr>\n",
       "    <tr>\n",
       "      <th>1686029</th>\n",
       "      <td>1.500000</td>\n",
       "    </tr>\n",
       "    <tr>\n",
       "      <th>471518</th>\n",
       "      <td>1.000000</td>\n",
       "    </tr>\n",
       "    <tr>\n",
       "      <th>103745</th>\n",
       "      <td>2.250000</td>\n",
       "    </tr>\n",
       "  </tbody>\n",
       "</table>\n",
       "</div>"
      ],
      "text/plain": [
       "         DwellTime\n",
       "1748899   1.083333\n",
       "280247    0.983333\n",
       "1686029   1.500000\n",
       "471518    1.000000\n",
       "103745    2.250000"
      ]
     },
     "metadata": {},
     "output_type": "display_data"
    }
   ],
   "source": [
    "from sklearn.model_selection import train_test_split\n",
    "\n",
    "# Split dataset into training set and test set -- 70% training and 30% test\n",
    "x_train, x_test, y_train, y_test = train_test_split(x, y, test_size=0.3, stratify=y)\n",
    "display(x_train.head())\n",
    "display(y_train.head())"
   ]
  },
  {
   "cell_type": "markdown",
   "metadata": {},
   "source": [
    "### Label Encoder"
   ]
  },
  {
   "cell_type": "code",
   "execution_count": 5,
   "metadata": {
    "scrolled": true
   },
   "outputs": [
    {
     "name": "stdout",
     "output_type": "stream",
     "text": [
      "[1 2 3 4 5 6]\n"
     ]
    }
   ],
   "source": [
    "from sklearn import preprocessing\n",
    "le = preprocessing.LabelEncoder()\n",
    "le.fit(list(range(1, 7)))\n",
    "print(le.classes_)"
   ]
  },
  {
   "cell_type": "code",
   "execution_count": 404,
   "metadata": {
    "scrolled": true
   },
   "outputs": [
    {
     "name": "stderr",
     "output_type": "stream",
     "text": [
      "/opt/anaconda3/lib/python3.7/site-packages/sklearn/preprocessing/_label.py:268: DataConversionWarning: A column-vector y was passed when a 1d array was expected. Please change the shape of y to (n_samples, ), for example using ravel().\n",
      "  y = column_or_1d(y, warn=True)\n"
     ]
    }
   ],
   "source": [
    "y_train_bin = le.transform(np.ceil(y_train))\n",
    "y_test_bin = le.transform(np.ceil(y_test))"
   ]
  },
  {
   "cell_type": "markdown",
   "metadata": {},
   "source": [
    "## Model 4 – LogisticRegression"
   ]
  },
  {
   "cell_type": "code",
   "execution_count": 405,
   "metadata": {},
   "outputs": [
    {
     "name": "stderr",
     "output_type": "stream",
     "text": [
      "/opt/anaconda3/lib/python3.7/site-packages/sklearn/linear_model/_sag.py:330: ConvergenceWarning: The max_iter was reached which means the coef_ did not converge\n",
      "  \"the coef_ did not converge\", ConvergenceWarning)\n"
     ]
    }
   ],
   "source": [
    "from sklearn.linear_model import LogisticRegression\n",
    "\n",
    "log = LogisticRegression(solver='saga', n_jobs=-1, penalty='l2')\n",
    "log.fit(x_train, y_train_bin)\n",
    "y_pred = le.inverse_transform(log.predict(x_test)) - 0.5"
   ]
  },
  {
   "cell_type": "code",
   "execution_count": 406,
   "metadata": {},
   "outputs": [
    {
     "name": "stdout",
     "output_type": "stream",
     "text": [
      "MAE: 0.9657124076727339\n",
      "RMSE: 1.3357097200291288\n",
      "MAPE: 97.1988039010463\n",
      "Mean Error: 0.6378255302105406\n"
     ]
    }
   ],
   "source": [
    "print('MAE: ' + str(mean_absolute_error(y_test, y_pred)))\n",
    "print('RMSE: ' + str(np.sqrt(mean_squared_error(y_test, y_pred))))\n",
    "print('MAPE: ' + str(mean_absolute_percentage_error(y_test.values.ravel(), y_pred)))\n",
    "print('Mean Error: ' + str(mean_error(y_test.values.ravel(), y_pred)))"
   ]
  },
  {
   "cell_type": "code",
   "execution_count": 407,
   "metadata": {},
   "outputs": [
    {
     "name": "stdout",
     "output_type": "stream",
     "text": [
      "Accuracy: 0.41988090635494607\n",
      "F1 score: 0.35748675390866624\n",
      "Log loss: 1.359781637045141\n"
     ]
    }
   ],
   "source": [
    "y_pred_bin = log.predict(x_test)\n",
    "y_pred_prob = log.predict_proba(x_test)\n",
    "print('Accuracy: ' + str(accuracy_score(y_test_bin, y_pred_bin)))\n",
    "print('F1 score: ' + str(f1_score(y_test_bin, y_pred_bin, average='weighted')))\n",
    "print('Log loss: ' + str(log_loss(y_test_bin, y_pred_prob)))"
   ]
  },
  {
   "cell_type": "code",
   "execution_count": 408,
   "metadata": {},
   "outputs": [
    {
     "data": {
      "text/plain": [
       "array([[ 90840, 101379,    205,      0,      0,      0],\n",
       "       [ 69768, 130630,    260,      2,      0,      0],\n",
       "       [ 21697,  51391,     80,      1,      0,      0],\n",
       "       [  9435,  24620,     21,      1,      0,      0],\n",
       "       [  4692,  12819,     11,      0,      0,      0],\n",
       "       [  2537,   7256,      7,      0,      0,      0]])"
      ]
     },
     "execution_count": 408,
     "metadata": {},
     "output_type": "execute_result"
    }
   ],
   "source": [
    "from sklearn.metrics import confusion_matrix\n",
    "confusion_matrix(y_test_bin, y_pred_bin)"
   ]
  },
  {
   "cell_type": "code",
   "execution_count": 433,
   "metadata": {},
   "outputs": [
    {
     "name": "stdout",
     "output_type": "stream",
     "text": [
      "Variable: OnTime               Coefficient: 0.817\n",
      "Variable: DayOfWeek            Coefficient: 0.081\n",
      "Variable: facility_traffic     Coefficient: 0.065\n",
      "Variable: TotalPallets         Coefficient: 0.061\n",
      "Variable: ClusterId            Coefficient: 0.038\n",
      "Variable: avg_dt               Coefficient: 0.029\n",
      "Variable: HourOfDay            Coefficient: 0.025\n",
      "Variable: driver_complexity    Coefficient: 0.009\n",
      "Variable: PeakHour             Coefficient: 0.008\n",
      "Variable: ArriveTimeUpdateType Coefficient: 0.002\n",
      "Variable: Miles                Coefficient: 0.0\n",
      "Variable: MilesToNextStop      Coefficient: 0.0\n",
      "Variable: BounceCount          Coefficient: 0.0\n",
      "Variable: TotalWeight          Coefficient: 0.0\n",
      "Variable: EquipmentLength      Coefficient: -0.0\n",
      "Variable: LoadStopType         Coefficient: -0.0\n",
      "Variable: LoadStopSequence     Coefficient: 0.0\n",
      "Variable: WorkType             Coefficient: -0.0\n",
      "Variable: facility_complexity  Coefficient: -0.002\n",
      "Variable: ScheduleType         Coefficient: -0.008\n",
      "Variable: driver_exp           Coefficient: -0.01\n",
      "Variable: max_dt               Coefficient: -0.012\n",
      "Variable: median_dt            Coefficient: -0.019\n",
      "Variable: std_dt               Coefficient: -0.022\n",
      "Variable: min_dt               Coefficient: -0.035\n",
      "Variable: Hot                  Coefficient: -0.054\n",
      "Variable: EquipmentType        Coefficient: -0.067\n",
      "Variable: DnBIndustry          Coefficient: -0.124\n"
     ]
    }
   ],
   "source": [
    "# Get variable coefficients\n",
    "coefs = reg.coef_.tolist()[0]\n",
    "# List of tuples with variable and coefficients\n",
    "feature_coef = [(feature, round(coef, 3)) for feature, coef in zip(x, coefs)]\n",
    "# Sort the coefficients by highest first\n",
    "feature_coef= sorted(feature_coef, key = lambda x: x[1], reverse = True)\n",
    "# Print out the feature and coefficients \n",
    "[print('Variable: {:20} Coefficient: {}'.format(*pair)) for pair in feature_coef];"
   ]
  },
  {
   "cell_type": "markdown",
   "metadata": {},
   "source": [
    "## Model 5 – RandomForestClassifier"
   ]
  },
  {
   "cell_type": "code",
   "execution_count": 376,
   "metadata": {},
   "outputs": [],
   "source": [
    "from sklearn.ensemble import RandomForestClassifier\n",
    "\n",
    "rfc = RandomForestClassifier(max_depth=10, min_samples_leaf=3, n_estimators=300)\n",
    "rfc.fit(x_train, y_train_bin)\n",
    "y_pred = le.inverse_transform(rfc.predict(x_test)) - 0.5"
   ]
  },
  {
   "cell_type": "code",
   "execution_count": 377,
   "metadata": {},
   "outputs": [
    {
     "name": "stdout",
     "output_type": "stream",
     "text": [
      "MAE: 0.8611045727108014\n",
      "RMSE: 1.215682585594272\n",
      "MAPE: 91.6649725538986\n",
      "Mean Error: 0.5131941443729232\n"
     ]
    }
   ],
   "source": [
    "print('MAE: ' + str(mean_absolute_error(y_test, y_pred)))\n",
    "print('RMSE: ' + str(np.sqrt(mean_squared_error(y_test, y_pred))))\n",
    "print('MAPE: ' + str(mean_absolute_percentage_error(y_test.values.ravel(), y_pred)))\n",
    "print('Mean Error: ' + str(mean_error(y_test.values.ravel(), y_pred)))"
   ]
  },
  {
   "cell_type": "code",
   "execution_count": 379,
   "metadata": {},
   "outputs": [
    {
     "name": "stdout",
     "output_type": "stream",
     "text": [
      "Accuracy: 0.4699972709285666\n",
      "F1 score: 0.4011268626994227\n",
      "Log loss: 1.2397043047529985\n"
     ]
    }
   ],
   "source": [
    "y_pred_bin = rfc.predict(x_test)\n",
    "y_pred_prob = rfc.predict_proba(x_test)\n",
    "print('Accuracy: ' + str(accuracy_score(y_test_bin, y_pred_bin)))\n",
    "print('F1 score: ' + str(f1_score(y_test_bin, y_pred_bin, average='weighted')))\n",
    "print('Log loss: ' + str(log_loss(y_test_bin, y_pred_prob)))"
   ]
  },
  {
   "cell_type": "code",
   "execution_count": 380,
   "metadata": {},
   "outputs": [
    {
     "data": {
      "text/plain": [
       "array([[ 83919, 108322,    169,     11,      2,      1],\n",
       "       [ 37285, 162795,    556,     23,      0,      1],\n",
       "       [  9281,  62745,   1045,     63,      6,     29],\n",
       "       [  3379,  30124,    376,    187,      6,      5],\n",
       "       [  1510,  15742,    202,     43,     24,      1],\n",
       "       [   759,   8895,     95,     19,      7,     25]])"
      ]
     },
     "execution_count": 380,
     "metadata": {},
     "output_type": "execute_result"
    }
   ],
   "source": [
    "from sklearn.metrics import confusion_matrix\n",
    "confusion_matrix(y_test_bin, y_pred_bin)"
   ]
  },
  {
   "cell_type": "code",
   "execution_count": 92,
   "metadata": {
    "scrolled": true
   },
   "outputs": [
    {
     "name": "stdout",
     "output_type": "stream",
     "text": [
      "Variable: median_dt            Importance: 0.264\n",
      "Variable: avg_dt               Importance: 0.222\n",
      "Variable: std_dt               Importance: 0.108\n",
      "Variable: ArriveTimeUpdateType Importance: 0.099\n",
      "Variable: max_dt               Importance: 0.06\n",
      "Variable: min_dt               Importance: 0.048\n",
      "Variable: Miles                Importance: 0.033\n",
      "Variable: driver_exp           Importance: 0.032\n",
      "Variable: driver_complexity    Importance: 0.026\n",
      "Variable: facility_complexity  Importance: 0.02\n",
      "Variable: TotalPallets         Importance: 0.014\n",
      "Variable: facility_traffic     Importance: 0.014\n",
      "Variable: TotalWeight          Importance: 0.011\n",
      "Variable: HourOfDay            Importance: 0.011\n",
      "Variable: MilesToNextStop      Importance: 0.007\n",
      "Variable: ClusterId            Importance: 0.006\n",
      "Variable: DnBIndustry          Importance: 0.006\n",
      "Variable: EquipmentType        Importance: 0.005\n",
      "Variable: LoadStopSequence     Importance: 0.004\n",
      "Variable: ScheduleType         Importance: 0.002\n",
      "Variable: WorkType             Importance: 0.002\n",
      "Variable: OnTime               Importance: 0.002\n",
      "Variable: PeakHour             Importance: 0.002\n",
      "Variable: LoadStopType         Importance: 0.001\n",
      "Variable: DayOfWeek            Importance: 0.001\n",
      "Variable: BounceCount          Importance: 0.0\n",
      "Variable: Hot                  Importance: 0.0\n",
      "Variable: EquipmentLength      Importance: 0.0\n"
     ]
    }
   ],
   "source": [
    "# Get numerical feature importances\n",
    "importances = list(rfc.feature_importances_)\n",
    "# List of tuples with variable and importance\n",
    "feature_importances = [(feature, round(importance, 3)) for feature, importance in zip(x, importances)]\n",
    "# Sort the feature importances by most important first\n",
    "feature_importances = sorted(feature_importances, key = lambda x: x[1], reverse = True)\n",
    "# Print out the feature and importances \n",
    "[print('Variable: {:20} Importance: {}'.format(*pair)) for pair in feature_importances];"
   ]
  },
  {
   "cell_type": "code",
   "execution_count": 81,
   "metadata": {},
   "outputs": [],
   "source": [
    "from sklearn.inspection import permutation_importance\n",
    "result = permutation_importance(rfc, x_test, y_test_bin, n_repeats=10, n_jobs=-1)"
   ]
  },
  {
   "cell_type": "code",
   "execution_count": 91,
   "metadata": {
    "scrolled": true
   },
   "outputs": [
    {
     "name": "stdout",
     "output_type": "stream",
     "text": [
      "Variable: median_dt            Importance: 0.427\n",
      "Variable: avg_dt               Importance: 0.166\n",
      "Variable: ArriveTimeUpdateType Importance: 0.139\n",
      "Variable: std_dt               Importance: 0.058\n",
      "Variable: max_dt               Importance: 0.034\n",
      "Variable: facility_complexity  Importance: 0.028\n",
      "Variable: driver_exp           Importance: 0.024\n",
      "Variable: min_dt               Importance: 0.021\n",
      "Variable: driver_complexity    Importance: 0.019\n",
      "Variable: Miles                Importance: 0.018\n",
      "Variable: TotalPallets         Importance: 0.015\n",
      "Variable: HourOfDay            Importance: 0.015\n",
      "Variable: TotalWeight          Importance: 0.008\n",
      "Variable: facility_traffic     Importance: 0.008\n",
      "Variable: MilesToNextStop      Importance: 0.007\n",
      "Variable: DnBIndustry          Importance: 0.005\n",
      "Variable: PeakHour             Importance: 0.003\n",
      "Variable: EquipmentType        Importance: 0.002\n",
      "Variable: LoadStopSequence     Importance: 0.002\n",
      "Variable: ScheduleType         Importance: 0.001\n",
      "Variable: WorkType             Importance: 0.001\n",
      "Variable: OnTime               Importance: 0.001\n",
      "Variable: ClusterId            Importance: 0.0\n",
      "Variable: BounceCount          Importance: -0.0\n",
      "Variable: Hot                  Importance: -0.0\n",
      "Variable: EquipmentLength      Importance: 0.0\n",
      "Variable: LoadStopType         Importance: 0.0\n",
      "Variable: DayOfWeek            Importance: 0.0\n"
     ]
    }
   ],
   "source": [
    "# Get numerical feature importances\n",
    "importances = list(result.importances_mean)\n",
    "# List of tuples with variable and importance\n",
    "permut_importances = [(feature, round(importance/result.importances_mean.sum(), 3)) for feature, importance in zip(x, importances)]\n",
    "# Sort the permutation importances by most important first\n",
    "permut_importances = sorted(permut_importances, key = lambda x: x[1], reverse = True)\n",
    "# Print out the feature and importances \n",
    "[print('Variable: {:20} Importance: {}'.format(*pair)) for pair in permut_importances];"
   ]
  },
  {
   "cell_type": "markdown",
   "metadata": {},
   "source": [
    "## Model 6 – GradientBoostingClassifier"
   ]
  },
  {
   "cell_type": "code",
   "execution_count": 24,
   "metadata": {},
   "outputs": [],
   "source": [
    "from sklearn.ensemble import GradientBoostingClassifier\n",
    "\n",
    "gbct = GradientBoostingClassifier(max_depth=5, n_estimators=30, learning_rate=1.0)\n",
    "gbct.fit(x_train, y_train_bin)\n",
    "y_pred = le.inverse_transform(gbct.predict(x_test)) - 0.5"
   ]
  },
  {
   "cell_type": "code",
   "execution_count": 25,
   "metadata": {},
   "outputs": [
    {
     "name": "stdout",
     "output_type": "stream",
     "text": [
      "MAE: 0.8791217506993247\n",
      "RMSE: 1.2358500142937512\n",
      "MAPE: 92.30313634790942\n",
      "Mean Error: 0.49616587574132176\n"
     ]
    }
   ],
   "source": [
    "print('MAE: ' + str(mean_absolute_error(y_test, y_pred)))\n",
    "print('RMSE: ' + str(np.sqrt(mean_squared_error(y_test, y_pred))))\n",
    "print('MAPE: ' + str(mean_absolute_percentage_error(y_test.values.ravel(), y_pred)))\n",
    "print('Mean Error: ' + str(mean_error(y_test.values.ravel(), y_pred)))"
   ]
  },
  {
   "cell_type": "code",
   "execution_count": 26,
   "metadata": {},
   "outputs": [
    {
     "name": "stdout",
     "output_type": "stream",
     "text": [
      "Accuracy: 0.466625730595165\n",
      "F1 score: 0.41682253893549503\n",
      "Log loss: 1.861982161463932\n"
     ]
    }
   ],
   "source": [
    "y_pred_bin = gbct.predict(x_test)\n",
    "y_pred_prob = gbct.predict_proba(x_test)\n",
    "print('Accuracy: ' + str(accuracy_score(y_test_bin, y_pred_bin)))\n",
    "print('F1 score: ' + str(f1_score(y_test_bin, y_pred_bin, average='weighted')))\n",
    "print('Log loss: ' + str(log_loss(y_test_bin, y_pred_prob)))"
   ]
  },
  {
   "cell_type": "code",
   "execution_count": 27,
   "metadata": {},
   "outputs": [
    {
     "data": {
      "text/plain": [
       "array([[ 92147,  96626,   2444,    917,    152,    138],\n",
       "       [ 45843, 148038,   4013,   2353,    272,    141],\n",
       "       [ 12414,  54720,   4296,   1444,    147,    148],\n",
       "       [  5129,  25187,   2188,   1320,    133,    120],\n",
       "       [  2480,  12615,   1281,    847,    276,     23],\n",
       "       [  1312,   7007,    766,    559,     17,    139]])"
      ]
     },
     "execution_count": 27,
     "metadata": {},
     "output_type": "execute_result"
    }
   ],
   "source": [
    "from sklearn.metrics import confusion_matrix\n",
    "confusion_matrix(y_test_bin, y_pred_bin)"
   ]
  },
  {
   "cell_type": "code",
   "execution_count": 387,
   "metadata": {},
   "outputs": [],
   "source": [
    "from sklearn.ensemble import GradientBoostingClassifier\n",
    "\n",
    "gbct = GradientBoostingClassifier(max_depth=10, n_estimators=30, learning_rate=1.0)\n",
    "gbct.fit(x_train, y_train_bin)\n",
    "y_pred = le.inverse_transform(gbct.predict(x_test)) - 0.5"
   ]
  },
  {
   "cell_type": "code",
   "execution_count": 388,
   "metadata": {},
   "outputs": [
    {
     "name": "stdout",
     "output_type": "stream",
     "text": [
      "MAE: 0.8966942542938657\n",
      "RMSE: 1.2626167879869292\n",
      "MAPE: 93.47072836249696\n",
      "Mean Error: 0.48740631451536365\n"
     ]
    }
   ],
   "source": [
    "print('MAE: ' + str(mean_absolute_error(y_test, y_pred)))\n",
    "print('RMSE: ' + str(np.sqrt(mean_squared_error(y_test, y_pred))))\n",
    "print('MAPE: ' + str(mean_absolute_percentage_error(y_test.values.ravel(), y_pred)))\n",
    "print('Mean Error: ' + str(mean_error(y_test.values.ravel(), y_pred)))"
   ]
  },
  {
   "cell_type": "code",
   "execution_count": 389,
   "metadata": {},
   "outputs": [
    {
     "name": "stdout",
     "output_type": "stream",
     "text": [
      "Accuracy: 0.4673117888305171\n",
      "F1 score: 0.42423205798521924\n",
      "Log loss: 1.5433664261643396\n"
     ]
    }
   ],
   "source": [
    "y_pred_bin = gbct.predict(x_test)\n",
    "y_pred_prob = gbct.predict_proba(x_test)\n",
    "print('Accuracy: ' + str(accuracy_score(y_test_bin, y_pred_bin)))\n",
    "print('F1 score: ' + str(f1_score(y_test_bin, y_pred_bin, average='weighted')))\n",
    "print('Log loss: ' + str(log_loss(y_test_bin, y_pred_prob)))"
   ]
  },
  {
   "cell_type": "code",
   "execution_count": 390,
   "metadata": {},
   "outputs": [
    {
     "data": {
      "text/plain": [
       "array([[ 97970,  88888,   3224,   1310,    548,    484],\n",
       "       [ 50675, 140716,   5872,   1841,    861,    695],\n",
       "       [ 14488,  50594,   5640,   1480,    558,    409],\n",
       "       [  5989,  23059,   2819,   1398,    480,    332],\n",
       "       [  2886,  11510,   1550,    761,    518,    297],\n",
       "       [  1537,   6227,    900,    555,    245,    336]])"
      ]
     },
     "execution_count": 390,
     "metadata": {},
     "output_type": "execute_result"
    }
   ],
   "source": [
    "from sklearn.metrics import confusion_matrix\n",
    "confusion_matrix(y_test_bin, y_pred_bin)"
   ]
  }
 ],
 "metadata": {
  "kernelspec": {
   "display_name": "Python 3",
   "language": "python",
   "name": "python3"
  },
  "language_info": {
   "codemirror_mode": {
    "name": "ipython",
    "version": 3
   },
   "file_extension": ".py",
   "mimetype": "text/x-python",
   "name": "python",
   "nbconvert_exporter": "python",
   "pygments_lexer": "ipython3",
   "version": "3.7.4"
  }
 },
 "nbformat": 4,
 "nbformat_minor": 2
}
